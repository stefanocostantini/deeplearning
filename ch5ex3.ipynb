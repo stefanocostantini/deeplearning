{
 "cells": [
  {
   "cell_type": "code",
   "execution_count": 1,
   "metadata": {},
   "outputs": [
    {
     "name": "stderr",
     "output_type": "stream",
     "text": [
      "Using TensorFlow backend.\n"
     ]
    }
   ],
   "source": [
    "import keras"
   ]
  },
  {
   "cell_type": "code",
   "execution_count": 2,
   "metadata": {},
   "outputs": [],
   "source": [
    "from keras.applications import VGG16\n",
    "\n",
    "conv_base = VGG16(weights = 'imagenet',\n",
    "                 include_top = False,\n",
    "                 input_shape = (150, 150, 3))"
   ]
  },
  {
   "cell_type": "code",
   "execution_count": 4,
   "metadata": {},
   "outputs": [
    {
     "name": "stdout",
     "output_type": "stream",
     "text": [
      "_________________________________________________________________\n",
      "Layer (type)                 Output Shape              Param #   \n",
      "=================================================================\n",
      "input_1 (InputLayer)         (None, 150, 150, 3)       0         \n",
      "_________________________________________________________________\n",
      "block1_conv1 (Conv2D)        (None, 150, 150, 64)      1792      \n",
      "_________________________________________________________________\n",
      "block1_conv2 (Conv2D)        (None, 150, 150, 64)      36928     \n",
      "_________________________________________________________________\n",
      "block1_pool (MaxPooling2D)   (None, 75, 75, 64)        0         \n",
      "_________________________________________________________________\n",
      "block2_conv1 (Conv2D)        (None, 75, 75, 128)       73856     \n",
      "_________________________________________________________________\n",
      "block2_conv2 (Conv2D)        (None, 75, 75, 128)       147584    \n",
      "_________________________________________________________________\n",
      "block2_pool (MaxPooling2D)   (None, 37, 37, 128)       0         \n",
      "_________________________________________________________________\n",
      "block3_conv1 (Conv2D)        (None, 37, 37, 256)       295168    \n",
      "_________________________________________________________________\n",
      "block3_conv2 (Conv2D)        (None, 37, 37, 256)       590080    \n",
      "_________________________________________________________________\n",
      "block3_conv3 (Conv2D)        (None, 37, 37, 256)       590080    \n",
      "_________________________________________________________________\n",
      "block3_pool (MaxPooling2D)   (None, 18, 18, 256)       0         \n",
      "_________________________________________________________________\n",
      "block4_conv1 (Conv2D)        (None, 18, 18, 512)       1180160   \n",
      "_________________________________________________________________\n",
      "block4_conv2 (Conv2D)        (None, 18, 18, 512)       2359808   \n",
      "_________________________________________________________________\n",
      "block4_conv3 (Conv2D)        (None, 18, 18, 512)       2359808   \n",
      "_________________________________________________________________\n",
      "block4_pool (MaxPooling2D)   (None, 9, 9, 512)         0         \n",
      "_________________________________________________________________\n",
      "block5_conv1 (Conv2D)        (None, 9, 9, 512)         2359808   \n",
      "_________________________________________________________________\n",
      "block5_conv2 (Conv2D)        (None, 9, 9, 512)         2359808   \n",
      "_________________________________________________________________\n",
      "block5_conv3 (Conv2D)        (None, 9, 9, 512)         2359808   \n",
      "_________________________________________________________________\n",
      "block5_pool (MaxPooling2D)   (None, 4, 4, 512)         0         \n",
      "=================================================================\n",
      "Total params: 14,714,688\n",
      "Trainable params: 14,714,688\n",
      "Non-trainable params: 0\n",
      "_________________________________________________________________\n"
     ]
    }
   ],
   "source": [
    "conv_base.summary()"
   ]
  },
  {
   "cell_type": "markdown",
   "metadata": {},
   "source": [
    "We now have two ways in which to proceed:\n",
    "1. Run the convolutional base above over our dataset, record its output to a Numpy array on disk and then use this output as input to a standalone, densely connected classifier\n",
    "2. Extending the convolutional base with dense layer on top and run the whole thing end to end with our input data. This allows the use of image augmentation\n",
    "\n",
    "We will consider both in turn"
   ]
  },
  {
   "cell_type": "markdown",
   "metadata": {},
   "source": [
    "#### 1. Feature extraction without data augmentation"
   ]
  },
  {
   "cell_type": "code",
   "execution_count": 8,
   "metadata": {},
   "outputs": [],
   "source": [
    "# We extract features from these images by calling the predict method of the conv_base model\n",
    "import os\n",
    "import numpy as np\n",
    "from keras.preprocessing.image import ImageDataGenerator\n",
    "\n",
    "train_dir = '../datasets/cats_and_dogs_small/train/'\n",
    "validation_dir = '../datasets/cats_and_dogs_small/validation'\n",
    "test_dir = '../datasets/cats_and_dogs_small/test'"
   ]
  },
  {
   "cell_type": "code",
   "execution_count": 7,
   "metadata": {},
   "outputs": [],
   "source": [
    "datagen = ImageDataGenerator(rescale=1./255) \n",
    "batch_size = 20"
   ]
  },
  {
   "cell_type": "code",
   "execution_count": 8,
   "metadata": {},
   "outputs": [],
   "source": [
    "def extract_features(directory, sample_count):\n",
    "    features = np.zeros(shape=(sample_count, 4, 4, 512))\n",
    "    labels = np.zeros(shape=(sample_count))\n",
    "    generator = datagen.flow_from_directory(\n",
    "        directory,\n",
    "        target_size=(150, 150),\n",
    "        batch_size=batch_size,\n",
    "        class_mode='binary')\n",
    "    i = 0\n",
    "    for inputs_batch, labels_batch in generator:\n",
    "        features_batch = conv_base.predict(inputs_batch)\n",
    "        features[i * batch_size : (i + 1) * batch_size] = features_batch\n",
    "        labels[i * batch_size : (i + 1) * batch_size] = labels_batch\n",
    "        i += 1\n",
    "        if i * batch_size >= sample_count:\n",
    "            break\n",
    "    return features, labels"
   ]
  },
  {
   "cell_type": "code",
   "execution_count": 9,
   "metadata": {},
   "outputs": [
    {
     "name": "stdout",
     "output_type": "stream",
     "text": [
      "Found 2000 images belonging to 2 classes.\n",
      "Found 1000 images belonging to 2 classes.\n",
      "Found 1000 images belonging to 2 classes.\n"
     ]
    }
   ],
   "source": [
    "train_features, train_labels = extract_features(train_dir, 2000)\n",
    "validation_features, validation_labels = extract_features(validation_dir, 1000)\n",
    "test_features, test_labels = extract_features(test_dir, 1000)"
   ]
  },
  {
   "cell_type": "code",
   "execution_count": 10,
   "metadata": {},
   "outputs": [],
   "source": [
    "# These extracted features have the shape (samples, 4, 4, 512) and we need to flatten them\n",
    "# to feed them to a densely connected classifier\n",
    "train_features = np.reshape(train_features, (2000, 4 * 4 * 512))\n",
    "validation_features = np.reshape(validation_features, (1000, 4 * 4 * 512))\n",
    "test_features = np.reshape(test_features, (1000, 4 * 4 * 512))"
   ]
  },
  {
   "cell_type": "code",
   "execution_count": 11,
   "metadata": {},
   "outputs": [
    {
     "name": "stdout",
     "output_type": "stream",
     "text": [
      "Train on 2000 samples, validate on 1000 samples\n",
      "Epoch 1/20\n",
      "2000/2000 [==============================] - 2s 781us/step - loss: 0.6396 - acc: 0.6355 - val_loss: 0.4756 - val_acc: 0.8210\n",
      "Epoch 2/20\n",
      "2000/2000 [==============================] - 1s 370us/step - loss: 0.4475 - acc: 0.7915 - val_loss: 0.3831 - val_acc: 0.8450\n",
      "Epoch 3/20\n",
      "2000/2000 [==============================] - 1s 367us/step - loss: 0.3738 - acc: 0.8420 - val_loss: 0.3382 - val_acc: 0.8730\n",
      "Epoch 4/20\n",
      "2000/2000 [==============================] - 1s 363us/step - loss: 0.3347 - acc: 0.8545 - val_loss: 0.3182 - val_acc: 0.8660\n",
      "Epoch 5/20\n",
      "2000/2000 [==============================] - 1s 365us/step - loss: 0.3021 - acc: 0.8735 - val_loss: 0.2916 - val_acc: 0.8840\n",
      "Epoch 6/20\n",
      "2000/2000 [==============================] - 1s 365us/step - loss: 0.2800 - acc: 0.8855 - val_loss: 0.2859 - val_acc: 0.8900\n",
      "Epoch 7/20\n",
      "2000/2000 [==============================] - 1s 361us/step - loss: 0.2601 - acc: 0.9035 - val_loss: 0.2751 - val_acc: 0.8900\n",
      "Epoch 8/20\n",
      "2000/2000 [==============================] - 1s 362us/step - loss: 0.2371 - acc: 0.9095 - val_loss: 0.2662 - val_acc: 0.8930\n",
      "Epoch 9/20\n",
      "2000/2000 [==============================] - 1s 361us/step - loss: 0.2236 - acc: 0.9185 - val_loss: 0.2563 - val_acc: 0.9000\n",
      "Epoch 10/20\n",
      "2000/2000 [==============================] - 1s 361us/step - loss: 0.2166 - acc: 0.9150 - val_loss: 0.2561 - val_acc: 0.8950\n",
      "Epoch 11/20\n",
      "2000/2000 [==============================] - 1s 362us/step - loss: 0.2080 - acc: 0.9215 - val_loss: 0.2601 - val_acc: 0.8910\n",
      "Epoch 12/20\n",
      "2000/2000 [==============================] - 1s 362us/step - loss: 0.1989 - acc: 0.9290 - val_loss: 0.2458 - val_acc: 0.9040\n",
      "Epoch 13/20\n",
      "2000/2000 [==============================] - 1s 362us/step - loss: 0.1844 - acc: 0.9320 - val_loss: 0.2422 - val_acc: 0.9060\n",
      "Epoch 14/20\n",
      "2000/2000 [==============================] - 1s 366us/step - loss: 0.1838 - acc: 0.9280 - val_loss: 0.2398 - val_acc: 0.9050\n",
      "Epoch 15/20\n",
      "2000/2000 [==============================] - 1s 363us/step - loss: 0.1722 - acc: 0.9395 - val_loss: 0.2400 - val_acc: 0.9030\n",
      "Epoch 16/20\n",
      "2000/2000 [==============================] - 1s 366us/step - loss: 0.1657 - acc: 0.9385 - val_loss: 0.2364 - val_acc: 0.9010\n",
      "Epoch 17/20\n",
      "2000/2000 [==============================] - 1s 362us/step - loss: 0.1615 - acc: 0.9445 - val_loss: 0.2362 - val_acc: 0.9030\n",
      "Epoch 18/20\n",
      "2000/2000 [==============================] - 1s 361us/step - loss: 0.1499 - acc: 0.9540 - val_loss: 0.2396 - val_acc: 0.9030\n",
      "Epoch 19/20\n",
      "2000/2000 [==============================] - 1s 368us/step - loss: 0.1407 - acc: 0.9465 - val_loss: 0.2415 - val_acc: 0.9020\n",
      "Epoch 20/20\n",
      "2000/2000 [==============================] - 1s 364us/step - loss: 0.1418 - acc: 0.9525 - val_loss: 0.2346 - val_acc: 0.9040\n"
     ]
    }
   ],
   "source": [
    "# Now we can use a densely connected classifier\n",
    "from keras import models\n",
    "from keras import layers\n",
    "from keras import optimizers\n",
    "\n",
    "model = models.Sequential()\n",
    "model.add(layers.Dense(256, activation = 'relu', input_dim = 4 * 4 * 512))\n",
    "model.add(layers.Dropout(0.5))\n",
    "model.add(layers.Dense(1, activation = 'sigmoid'))\n",
    "\n",
    "model.compile(optimizer = optimizers.RMSprop(lr=2e-5),\n",
    "              loss = 'binary_crossentropy',\n",
    "              metrics = ['acc'])\n",
    "\n",
    "history = model.fit(train_features, train_labels,\n",
    "                   epochs = 20,\n",
    "                   batch_size = 20,\n",
    "                   validation_data = (validation_features, validation_labels))"
   ]
  },
  {
   "cell_type": "code",
   "execution_count": 12,
   "metadata": {},
   "outputs": [
    {
     "data": {
      "image/png": "[encoded data removed]",
      "text/plain": [
       "<matplotlib.figure.Figure at 0x7f190858ae10>"
      ]
     },
     "metadata": {},
     "output_type": "display_data"
    },
    {
     "data": {
      "image/png": "[encoded data removed]",
      "text/plain": [
       "<matplotlib.figure.Figure at 0x7f190421f8d0>"
      ]
     },
     "metadata": {},
     "output_type": "display_data"
    }
   ],
   "source": [
    "import matplotlib.pyplot as plt\n",
    "acc = history.history['acc']\n",
    "val_acc = history.history['val_acc']\n",
    "loss = history.history['loss']\n",
    "val_loss = history.history['val_loss']\n",
    "\n",
    "epochs = range(1, len(acc) + 1) \n",
    "\n",
    "plt.plot(epochs, acc, 'bo', label='Training acc')\n",
    "plt.plot(epochs, val_acc, 'b', label='Validation acc')\n",
    "plt.title('Training and validation accuracy')\n",
    "plt.legend()\n",
    "\n",
    "plt.figure()\n",
    "\n",
    "plt.plot(epochs, loss, 'bo', label='Training loss')\n",
    "plt.plot(epochs, val_loss, 'b', label='Validation loss')\n",
    "plt.title('Training and validation loss')\n",
    "plt.legend()\n",
    "\n",
    "plt.show()"
   ]
  },
  {
   "cell_type": "code",
   "execution_count": 13,
   "metadata": {},
   "outputs": [],
   "source": [
    "# The model trains very fast and the validation accuracy is pretty good (90%) but we can see\n",
    "# some signs of overfitting. We can now try the second technique (running the dataset through the whole\n",
    "# conv_base and using image augmentation).\n",
    "# BTW: note that the next method is very GPU intensive so the first method is to be preferred if\n",
    "# there is no access to a GPU machine"
   ]
  },
  {
   "cell_type": "markdown",
   "metadata": {},
   "source": [
    "#### 2. Feature extraction with data augmentation"
   ]
  },
  {
   "cell_type": "code",
   "execution_count": 12,
   "metadata": {},
   "outputs": [
    {
     "name": "stdout",
     "output_type": "stream",
     "text": [
      "_________________________________________________________________\n",
      "Layer (type)                 Output Shape              Param #   \n",
      "=================================================================\n",
      "vgg16 (Model)                (None, 4, 4, 512)         14714688  \n",
      "_________________________________________________________________\n",
      "flatten_1 (Flatten)          (None, 8192)              0         \n",
      "_________________________________________________________________\n",
      "dense_1 (Dense)              (None, 256)               2097408   \n",
      "_________________________________________________________________\n",
      "dense_2 (Dense)              (None, 1)                 257       \n",
      "=================================================================\n",
      "Total params: 16,812,353\n",
      "Trainable params: 2,097,665\n",
      "Non-trainable params: 14,714,688\n",
      "_________________________________________________________________\n"
     ]
    }
   ],
   "source": [
    "# Pre-trained models behave like layers, so it is quite easy to add a conv_base to a Sequential model\n",
    "from keras import models\n",
    "from keras import layers\n",
    "\n",
    "# We freeze the weights of the conv_base to contain the size of the model\n",
    "conv_base.trainable=False\n",
    "\n",
    "model = models.Sequential()\n",
    "model.add(conv_base)\n",
    "model.add(layers.Flatten())\n",
    "model.add(layers.Dense(256, activation = 'relu'))\n",
    "model.add(layers.Dense(1, activation = 'sigmoid'))\n",
    "model.summary()\n",
    "\n",
    "# We can see that the number of trainable parameters is limited to those in the Dense layers"
   ]
  },
  {
   "cell_type": "code",
   "execution_count": 13,
   "metadata": {},
   "outputs": [],
   "source": [
    "# Now we can start training the model with the same data augmentation we used before.\n",
    "from keras.preprocessing.image import ImageDataGenerator\n",
    "from keras import optimizers\n",
    "\n",
    "train_datagen = ImageDataGenerator(\n",
    "      rescale=1./255,\n",
    "      rotation_range=40,\n",
    "      width_shift_range=0.2,\n",
    "      height_shift_range=0.2,\n",
    "      shear_range=0.2,\n",
    "      zoom_range=0.2,\n",
    "      horizontal_flip=True,\n",
    "      fill_mode='nearest')\n",
    "\n",
    "test_datagen = ImageDataGenerator(rescale=1./255)\n",
    "# No image augmentation for the validation data!"
   ]
  },
  {
   "cell_type": "code",
   "execution_count": 14,
   "metadata": {
    "scrolled": true
   },
   "outputs": [
    {
     "name": "stdout",
     "output_type": "stream",
     "text": [
      "Found 2000 images belonging to 2 classes.\n",
      "Found 1000 images belonging to 2 classes.\n"
     ]
    }
   ],
   "source": [
    "train_generator = train_datagen.flow_from_directory(\n",
    "    train_dir,\n",
    "    target_size=(150, 150),\n",
    "    batch_size=20,\n",
    "    class_mode='binary')\n",
    "\n",
    "validation_generator = test_datagen.flow_from_directory(\n",
    "        validation_dir,\n",
    "        target_size=(150, 150),\n",
    "        batch_size=20,\n",
    "        class_mode='binary')\n",
    "\n",
    "model.compile(loss='binary_crossentropy',\n",
    "              optimizer=optimizers.RMSprop(lr=2e-5),\n",
    "              metrics=['acc'])\n",
    "\n",
    "history = model.fit_generator(\n",
    "    train_generator,\n",
    "    steps_per_epoch=100,\n",
    "    epochs=30,\n",
    "    validation_data=validation_generator,\n",
    "    validation_steps=50)"
   ]
  },
  {
   "cell_type": "code",
   "execution_count": 23,
   "metadata": {},
   "outputs": [
    {
     "data": {
      "image/png": "[encoded data removed]",
      "text/plain": [
       "<matplotlib.figure.Figure at 0x7f190a3ac400>"
      ]
     },
     "metadata": {},
     "output_type": "display_data"
    },
    {
     "data": {
      "image/png": "[encoded data removed]",
      "text/plain": [
       "<matplotlib.figure.Figure at 0x7f190a2f2e48>"
      ]
     },
     "metadata": {},
     "output_type": "display_data"
    }
   ],
   "source": [
    "acc = history.history['acc']\n",
    "val_acc = history.history['val_acc']\n",
    "loss = history.history['loss']\n",
    "val_loss = history.history['val_loss']\n",
    "\n",
    "epochs = range(1, len(acc) + 1) \n",
    "\n",
    "plt.plot(epochs, acc, 'bo', label='Training acc')\n",
    "plt.plot(epochs, val_acc, 'b', label='Validation acc')\n",
    "plt.title('Training and validation accuracy')\n",
    "plt.legend()\n",
    "\n",
    "plt.figure()\n",
    "\n",
    "plt.plot(epochs, loss, 'bo', label='Training loss')\n",
    "plt.plot(epochs, val_loss, 'b', label='Validation loss')\n",
    "plt.title('Training and validation loss')\n",
    "plt.legend()\n",
    "\n",
    "plt.show()\n",
    "# We can now see no overfitting and a validation accuracy of 96% which is much better\n",
    "# than when we trained the convnet from scratch."
   ]
  },
  {
   "cell_type": "markdown",
   "metadata": {},
   "source": [
    "#### Fine tuning"
   ]
  },
  {
   "cell_type": "code",
   "execution_count": 3,
   "metadata": {},
   "outputs": [],
   "source": [
    "# Fine tuning refers to the \"unfreezing\" of the last few convolutional layers\n",
    "# So that their weights can be updated on the basis of our data. Generally\n",
    "# only the last \"block\" of layers is fine tuned. The steps are as follows:\n",
    "#\n",
    "# 1 Add your custom network on top of an already-trained base network.\n",
    "# 2 Freeze the base network.\n",
    "# 3 Train the part you added.\n",
    "# 4 Unfreeze some layers in the base network.\n",
    "# 5 Jointly train both these layers and the part you added.\n",
    "#\n",
    "# We've already done 1-3 above. Let's now do 4 and 5.\n",
    "# Specifically, we will \"unfreeze\" block5_conv1, block5_conv2, and block5_conv3 (see summary() for details)"
   ]
  },
  {
   "cell_type": "code",
   "execution_count": 4,
   "metadata": {},
   "outputs": [],
   "source": [
    "# This is how the last 3 layers will be set to trainable.\n",
    "conv_base.trainable = True\n",
    "set_trainable = False\n",
    "for layer in conv_base.layers:\n",
    "    if layer.name == 'block5_conv1':\n",
    "        set_trainable = True\n",
    "    if set_trainable:\n",
    "        layer.trainable = True\n",
    "    else:\n",
    "        layer.trainable = False"
   ]
  },
  {
   "cell_type": "code",
   "execution_count": 15,
   "metadata": {
    "scrolled": true
   },
   "outputs": [
    {
     "name": "stdout",
     "output_type": "stream",
     "text": [
      "Epoch 1/100\n",
      "100/100 [==============================] - 37s 368ms/step - loss: 0.5510 - acc: 0.7210 - val_loss: 0.3469 - val_acc: 0.8480\n",
      "Epoch 2/100\n",
      "100/100 [==============================] - 35s 345ms/step - loss: 0.4034 - acc: 0.8190 - val_loss: 0.3059 - val_acc: 0.8630\n",
      "Epoch 3/100\n",
      "100/100 [==============================] - 35s 348ms/step - loss: 0.3351 - acc: 0.8430 - val_loss: 0.2242 - val_acc: 0.8990\n",
      "Epoch 4/100\n",
      "100/100 [==============================] - 35s 350ms/step - loss: 0.3070 - acc: 0.8670 - val_loss: 0.2010 - val_acc: 0.9130\n",
      "Epoch 5/100\n",
      "100/100 [==============================] - 35s 351ms/step - loss: 0.2851 - acc: 0.8795 - val_loss: 0.1989 - val_acc: 0.9060\n",
      "Epoch 6/100\n",
      "100/100 [==============================] - 35s 351ms/step - loss: 0.2734 - acc: 0.8790 - val_loss: 0.1969 - val_acc: 0.9090\n",
      "Epoch 7/100\n",
      "100/100 [==============================] - 35s 355ms/step - loss: 0.2624 - acc: 0.8915 - val_loss: 0.1869 - val_acc: 0.9170\n",
      "Epoch 8/100\n",
      "100/100 [==============================] - 36s 355ms/step - loss: 0.2410 - acc: 0.8945 - val_loss: 0.1844 - val_acc: 0.9110\n",
      "Epoch 9/100\n",
      "100/100 [==============================] - 36s 355ms/step - loss: 0.2303 - acc: 0.8995 - val_loss: 0.1889 - val_acc: 0.9230\n",
      "Epoch 10/100\n",
      "100/100 [==============================] - 36s 355ms/step - loss: 0.2137 - acc: 0.9115 - val_loss: 0.1977 - val_acc: 0.9130\n",
      "Epoch 11/100\n",
      "100/100 [==============================] - 36s 355ms/step - loss: 0.2028 - acc: 0.9130 - val_loss: 0.1714 - val_acc: 0.9210\n",
      "Epoch 12/100\n",
      "100/100 [==============================] - 36s 355ms/step - loss: 0.2064 - acc: 0.9155 - val_loss: 0.1910 - val_acc: 0.9200\n",
      "Epoch 13/100\n",
      "100/100 [==============================] - 36s 355ms/step - loss: 0.1885 - acc: 0.9225 - val_loss: 0.1739 - val_acc: 0.9220\n",
      "Epoch 14/100\n",
      "100/100 [==============================] - 35s 355ms/step - loss: 0.1876 - acc: 0.9260 - val_loss: 0.2671 - val_acc: 0.8990\n",
      "Epoch 15/100\n",
      "100/100 [==============================] - 36s 355ms/step - loss: 0.1662 - acc: 0.9355 - val_loss: 0.1697 - val_acc: 0.9310\n",
      "Epoch 16/100\n",
      "100/100 [==============================] - 35s 353ms/step - loss: 0.1756 - acc: 0.9310 - val_loss: 0.1735 - val_acc: 0.9290\n",
      "Epoch 17/100\n",
      "100/100 [==============================] - 35s 353ms/step - loss: 0.1615 - acc: 0.9335 - val_loss: 0.1938 - val_acc: 0.9150\n",
      "Epoch 18/100\n",
      "100/100 [==============================] - 35s 354ms/step - loss: 0.1719 - acc: 0.9325 - val_loss: 0.1637 - val_acc: 0.9230\n",
      "Epoch 19/100\n",
      "100/100 [==============================] - 35s 353ms/step - loss: 0.1571 - acc: 0.9350 - val_loss: 0.1772 - val_acc: 0.9320\n",
      "Epoch 20/100\n",
      "100/100 [==============================] - 35s 355ms/step - loss: 0.1605 - acc: 0.9385 - val_loss: 0.1591 - val_acc: 0.9290\n",
      "Epoch 21/100\n",
      "100/100 [==============================] - 35s 353ms/step - loss: 0.1413 - acc: 0.9425 - val_loss: 0.1721 - val_acc: 0.9260\n",
      "Epoch 22/100\n",
      "100/100 [==============================] - 35s 355ms/step - loss: 0.1401 - acc: 0.9460 - val_loss: 0.1552 - val_acc: 0.9290\n",
      "Epoch 23/100\n",
      "100/100 [==============================] - 35s 355ms/step - loss: 0.1418 - acc: 0.9450 - val_loss: 0.1814 - val_acc: 0.9280\n",
      "Epoch 24/100\n",
      "100/100 [==============================] - 35s 353ms/step - loss: 0.1312 - acc: 0.9405 - val_loss: 0.1564 - val_acc: 0.9330\n",
      "Epoch 25/100\n",
      "100/100 [==============================] - 35s 352ms/step - loss: 0.1261 - acc: 0.9435 - val_loss: 0.1641 - val_acc: 0.9260\n",
      "Epoch 26/100\n",
      "100/100 [==============================] - 35s 353ms/step - loss: 0.1178 - acc: 0.9555 - val_loss: 0.1818 - val_acc: 0.9240\n",
      "Epoch 27/100\n",
      "100/100 [==============================] - 35s 352ms/step - loss: 0.1206 - acc: 0.9450 - val_loss: 0.1629 - val_acc: 0.9320\n",
      "Epoch 28/100\n",
      "100/100 [==============================] - 35s 353ms/step - loss: 0.1176 - acc: 0.9570 - val_loss: 0.1819 - val_acc: 0.9340\n",
      "Epoch 29/100\n",
      "100/100 [==============================] - 36s 355ms/step - loss: 0.1161 - acc: 0.9500 - val_loss: 0.2091 - val_acc: 0.9230\n",
      "Epoch 30/100\n",
      "100/100 [==============================] - 35s 355ms/step - loss: 0.1188 - acc: 0.9480 - val_loss: 0.1841 - val_acc: 0.9270\n",
      "Epoch 31/100\n",
      "100/100 [==============================] - 35s 353ms/step - loss: 0.1023 - acc: 0.9605 - val_loss: 0.1894 - val_acc: 0.9320\n",
      "Epoch 32/100\n",
      "100/100 [==============================] - 35s 352ms/step - loss: 0.1133 - acc: 0.9510 - val_loss: 0.1650 - val_acc: 0.9390\n",
      "Epoch 33/100\n",
      "100/100 [==============================] - 35s 352ms/step - loss: 0.0999 - acc: 0.9630 - val_loss: 0.1692 - val_acc: 0.9360\n",
      "Epoch 34/100\n",
      "100/100 [==============================] - 35s 353ms/step - loss: 0.0904 - acc: 0.9615 - val_loss: 0.1580 - val_acc: 0.9360\n",
      "Epoch 35/100\n",
      "100/100 [==============================] - 36s 355ms/step - loss: 0.1033 - acc: 0.9565 - val_loss: 0.2186 - val_acc: 0.9270\n",
      "Epoch 36/100\n",
      "100/100 [==============================] - 35s 354ms/step - loss: 0.1046 - acc: 0.9585 - val_loss: 0.1745 - val_acc: 0.9410\n",
      "Epoch 37/100\n",
      "100/100 [==============================] - 35s 353ms/step - loss: 0.1009 - acc: 0.9580 - val_loss: 0.1612 - val_acc: 0.9360\n",
      "Epoch 38/100\n",
      "100/100 [==============================] - 35s 353ms/step - loss: 0.0886 - acc: 0.9675 - val_loss: 0.2513 - val_acc: 0.9200\n",
      "Epoch 39/100\n",
      "100/100 [==============================] - 36s 355ms/step - loss: 0.0819 - acc: 0.9645 - val_loss: 0.1941 - val_acc: 0.9340\n",
      "Epoch 40/100\n",
      "100/100 [==============================] - 35s 353ms/step - loss: 0.0814 - acc: 0.9700 - val_loss: 0.1689 - val_acc: 0.9390\n",
      "Epoch 41/100\n",
      "100/100 [==============================] - 35s 355ms/step - loss: 0.0837 - acc: 0.9695 - val_loss: 0.1705 - val_acc: 0.9350\n",
      "Epoch 42/100\n",
      "100/100 [==============================] - 35s 353ms/step - loss: 0.0782 - acc: 0.9695 - val_loss: 0.1920 - val_acc: 0.9320\n",
      "Epoch 43/100\n",
      "100/100 [==============================] - 36s 355ms/step - loss: 0.0736 - acc: 0.9705 - val_loss: 0.1925 - val_acc: 0.9360\n",
      "Epoch 44/100\n",
      "100/100 [==============================] - 35s 354ms/step - loss: 0.0918 - acc: 0.9640 - val_loss: 0.1767 - val_acc: 0.9370\n",
      "Epoch 45/100\n",
      "100/100 [==============================] - 35s 352ms/step - loss: 0.0739 - acc: 0.9740 - val_loss: 0.2763 - val_acc: 0.9170\n",
      "Epoch 46/100\n",
      "100/100 [==============================] - 35s 354ms/step - loss: 0.0714 - acc: 0.9695 - val_loss: 0.2123 - val_acc: 0.9290\n",
      "Epoch 47/100\n",
      "100/100 [==============================] - 35s 353ms/step - loss: 0.0626 - acc: 0.9785 - val_loss: 0.1952 - val_acc: 0.9370\n",
      "Epoch 48/100\n",
      "100/100 [==============================] - 35s 353ms/step - loss: 0.0808 - acc: 0.9700 - val_loss: 0.1622 - val_acc: 0.9420\n",
      "Epoch 49/100\n",
      "100/100 [==============================] - 35s 354ms/step - loss: 0.0677 - acc: 0.9760 - val_loss: 0.2335 - val_acc: 0.9280\n",
      "Epoch 50/100\n",
      "100/100 [==============================] - 35s 352ms/step - loss: 0.0736 - acc: 0.9745 - val_loss: 0.1760 - val_acc: 0.9410\n",
      "Epoch 51/100\n",
      "100/100 [==============================] - 35s 354ms/step - loss: 0.0681 - acc: 0.9790 - val_loss: 0.1901 - val_acc: 0.9350\n",
      "Epoch 52/100\n",
      "100/100 [==============================] - 35s 353ms/step - loss: 0.0644 - acc: 0.9750 - val_loss: 0.2069 - val_acc: 0.9300\n",
      "Epoch 53/100\n",
      "100/100 [==============================] - 35s 352ms/step - loss: 0.0747 - acc: 0.9755 - val_loss: 0.2390 - val_acc: 0.9270\n",
      "Epoch 54/100\n",
      "100/100 [==============================] - 35s 353ms/step - loss: 0.0625 - acc: 0.9755 - val_loss: 0.2046 - val_acc: 0.9350\n",
      "Epoch 55/100\n",
      "100/100 [==============================] - 35s 353ms/step - loss: 0.0589 - acc: 0.9735 - val_loss: 0.2163 - val_acc: 0.9280\n",
      "Epoch 56/100\n",
      "100/100 [==============================] - 35s 351ms/step - loss: 0.0586 - acc: 0.9790 - val_loss: 0.2224 - val_acc: 0.9260\n",
      "Epoch 57/100\n",
      "100/100 [==============================] - 35s 352ms/step - loss: 0.0593 - acc: 0.9810 - val_loss: 0.2138 - val_acc: 0.9380\n",
      "Epoch 58/100\n",
      "100/100 [==============================] - 35s 354ms/step - loss: 0.0607 - acc: 0.9765 - val_loss: 0.2193 - val_acc: 0.9390\n",
      "Epoch 59/100\n",
      "100/100 [==============================] - 35s 354ms/step - loss: 0.0604 - acc: 0.9745 - val_loss: 0.2156 - val_acc: 0.9340\n",
      "Epoch 60/100\n",
      "100/100 [==============================] - 35s 354ms/step - loss: 0.0588 - acc: 0.9795 - val_loss: 0.2045 - val_acc: 0.9390\n"
     ]
    },
    {
     "name": "stdout",
     "output_type": "stream",
     "text": [
      "Epoch 61/100\n",
      "100/100 [==============================] - 35s 353ms/step - loss: 0.0450 - acc: 0.9865 - val_loss: 0.1937 - val_acc: 0.9320\n",
      "Epoch 62/100\n",
      "100/100 [==============================] - 35s 353ms/step - loss: 0.0503 - acc: 0.9785 - val_loss: 0.2018 - val_acc: 0.9360\n",
      "Epoch 63/100\n",
      "100/100 [==============================] - 35s 353ms/step - loss: 0.0515 - acc: 0.9800 - val_loss: 0.2205 - val_acc: 0.9350\n",
      "Epoch 64/100\n",
      "100/100 [==============================] - 35s 354ms/step - loss: 0.0389 - acc: 0.9860 - val_loss: 0.2166 - val_acc: 0.9370\n",
      "Epoch 65/100\n",
      "100/100 [==============================] - 35s 353ms/step - loss: 0.0569 - acc: 0.9800 - val_loss: 0.2575 - val_acc: 0.9300\n",
      "Epoch 66/100\n",
      "100/100 [==============================] - 35s 353ms/step - loss: 0.0489 - acc: 0.9835 - val_loss: 0.2152 - val_acc: 0.9350\n",
      "Epoch 67/100\n",
      "100/100 [==============================] - 35s 352ms/step - loss: 0.0332 - acc: 0.9870 - val_loss: 0.5110 - val_acc: 0.8970\n",
      "Epoch 68/100\n",
      "100/100 [==============================] - 35s 352ms/step - loss: 0.0373 - acc: 0.9870 - val_loss: 0.2095 - val_acc: 0.9390\n",
      "Epoch 69/100\n",
      "100/100 [==============================] - 35s 351ms/step - loss: 0.0413 - acc: 0.9860 - val_loss: 0.2621 - val_acc: 0.9330\n",
      "Epoch 70/100\n",
      "100/100 [==============================] - 35s 353ms/step - loss: 0.0397 - acc: 0.9850 - val_loss: 0.2765 - val_acc: 0.9280\n",
      "Epoch 71/100\n",
      "100/100 [==============================] - 35s 353ms/step - loss: 0.0624 - acc: 0.9775 - val_loss: 0.2345 - val_acc: 0.9400\n",
      "Epoch 72/100\n",
      "100/100 [==============================] - 35s 355ms/step - loss: 0.0434 - acc: 0.9835 - val_loss: 0.2364 - val_acc: 0.9350\n",
      "Epoch 73/100\n",
      "100/100 [==============================] - 35s 353ms/step - loss: 0.0375 - acc: 0.9840 - val_loss: 0.2284 - val_acc: 0.9350\n",
      "Epoch 74/100\n",
      "100/100 [==============================] - 36s 355ms/step - loss: 0.0380 - acc: 0.9880 - val_loss: 0.2469 - val_acc: 0.9310\n",
      "Epoch 75/100\n",
      "100/100 [==============================] - 35s 354ms/step - loss: 0.0388 - acc: 0.9865 - val_loss: 0.2284 - val_acc: 0.9320\n",
      "Epoch 76/100\n",
      "100/100 [==============================] - 35s 352ms/step - loss: 0.0393 - acc: 0.9860 - val_loss: 0.2274 - val_acc: 0.9400\n",
      "Epoch 77/100\n",
      "100/100 [==============================] - 35s 353ms/step - loss: 0.0441 - acc: 0.9865 - val_loss: 0.2896 - val_acc: 0.9260\n",
      "Epoch 78/100\n",
      "100/100 [==============================] - 35s 353ms/step - loss: 0.0376 - acc: 0.9850 - val_loss: 0.2923 - val_acc: 0.9350\n",
      "Epoch 79/100\n",
      "100/100 [==============================] - 35s 352ms/step - loss: 0.0335 - acc: 0.9895 - val_loss: 0.2638 - val_acc: 0.9350\n",
      "Epoch 80/100\n",
      "100/100 [==============================] - 35s 354ms/step - loss: 0.0386 - acc: 0.9855 - val_loss: 0.2391 - val_acc: 0.9380\n",
      "Epoch 81/100\n",
      "100/100 [==============================] - 35s 353ms/step - loss: 0.0392 - acc: 0.9830 - val_loss: 0.2440 - val_acc: 0.9370\n",
      "Epoch 82/100\n",
      "100/100 [==============================] - 35s 353ms/step - loss: 0.0425 - acc: 0.9855 - val_loss: 0.2246 - val_acc: 0.9410\n",
      "Epoch 83/100\n",
      "100/100 [==============================] - 35s 353ms/step - loss: 0.0347 - acc: 0.9885 - val_loss: 0.2372 - val_acc: 0.9390\n",
      "Epoch 84/100\n",
      "100/100 [==============================] - 35s 352ms/step - loss: 0.0370 - acc: 0.9850 - val_loss: 0.2561 - val_acc: 0.9350\n",
      "Epoch 85/100\n",
      "100/100 [==============================] - 35s 354ms/step - loss: 0.0378 - acc: 0.9870 - val_loss: 0.2278 - val_acc: 0.9400\n",
      "Epoch 86/100\n",
      "100/100 [==============================] - 35s 352ms/step - loss: 0.0367 - acc: 0.9845 - val_loss: 0.2419 - val_acc: 0.9400\n",
      "Epoch 87/100\n",
      "100/100 [==============================] - 35s 354ms/step - loss: 0.0343 - acc: 0.9885 - val_loss: 0.2254 - val_acc: 0.9440\n",
      "Epoch 88/100\n",
      "100/100 [==============================] - 35s 353ms/step - loss: 0.0327 - acc: 0.9850 - val_loss: 0.2153 - val_acc: 0.9420\n",
      "Epoch 89/100\n",
      "100/100 [==============================] - 35s 354ms/step - loss: 0.0367 - acc: 0.9870 - val_loss: 0.2456 - val_acc: 0.9410\n",
      "Epoch 90/100\n",
      "100/100 [==============================] - 35s 352ms/step - loss: 0.0477 - acc: 0.9830 - val_loss: 0.2165 - val_acc: 0.9380\n",
      "Epoch 91/100\n",
      "100/100 [==============================] - 35s 353ms/step - loss: 0.0204 - acc: 0.9930 - val_loss: 0.2677 - val_acc: 0.9380\n",
      "Epoch 92/100\n",
      "100/100 [==============================] - 35s 353ms/step - loss: 0.0492 - acc: 0.9830 - val_loss: 0.2289 - val_acc: 0.9390\n",
      "Epoch 93/100\n",
      "100/100 [==============================] - 35s 353ms/step - loss: 0.0241 - acc: 0.9920 - val_loss: 0.2659 - val_acc: 0.9360\n",
      "Epoch 94/100\n",
      "100/100 [==============================] - 35s 354ms/step - loss: 0.0283 - acc: 0.9885 - val_loss: 0.2482 - val_acc: 0.9390\n",
      "Epoch 95/100\n",
      "100/100 [==============================] - 35s 353ms/step - loss: 0.0282 - acc: 0.9905 - val_loss: 0.2767 - val_acc: 0.9370\n",
      "Epoch 96/100\n",
      "100/100 [==============================] - 35s 353ms/step - loss: 0.0292 - acc: 0.9885 - val_loss: 0.2491 - val_acc: 0.9370\n",
      "Epoch 97/100\n",
      "100/100 [==============================] - 35s 353ms/step - loss: 0.0325 - acc: 0.9885 - val_loss: 0.2629 - val_acc: 0.9390\n",
      "Epoch 98/100\n",
      "100/100 [==============================] - 35s 352ms/step - loss: 0.0300 - acc: 0.9905 - val_loss: 0.2469 - val_acc: 0.9340\n",
      "Epoch 99/100\n",
      "100/100 [==============================] - 35s 354ms/step - loss: 0.0351 - acc: 0.9875 - val_loss: 0.2388 - val_acc: 0.9390\n",
      "Epoch 100/100\n",
      "100/100 [==============================] - 35s 352ms/step - loss: 0.0298 - acc: 0.9890 - val_loss: 0.2391 - val_acc: 0.9400\n"
     ]
    }
   ],
   "source": [
    "model.compile(loss='binary_crossentropy',\n",
    "                      optimizer=optimizers.RMSprop(lr=1e-5),\n",
    "                      metrics=['acc'])\n",
    "\n",
    "history = model.fit_generator(\n",
    "              train_generator,\n",
    "              steps_per_epoch=100,\n",
    "              epochs=100,\n",
    "              validation_data=validation_generator,\n",
    "              validation_steps=50)"
   ]
  },
  {
   "cell_type": "code",
   "execution_count": 16,
   "metadata": {},
   "outputs": [
    {
     "name": "stdout",
     "output_type": "stream",
     "text": [
      "Found 1000 images belonging to 2 classes.\n",
      "test acc: 0.941999993324\n"
     ]
    }
   ],
   "source": [
    "# We can finally evaluate the model on the test data\n",
    "test_generator = test_datagen.flow_from_directory(\n",
    "        test_dir,\n",
    "        target_size=(150, 150),\n",
    "        batch_size=20,\n",
    "        class_mode='binary')\n",
    "test_loss, test_acc = model.evaluate_generator(test_generator, steps=50)\n",
    "print('test acc:', test_acc)\n",
    "# We can see that we get a bit of extra performance from the final fine-tuning."
   ]
  },
  {
   "cell_type": "code",
   "execution_count": null,
   "metadata": {},
   "outputs": [],
   "source": []
  }
 ],
 "metadata": {
  "kernelspec": {
   "display_name": "Python 3",
   "language": "python",
   "name": "python3"
  },
  "language_info": {
   "codemirror_mode": {
    "name": "ipython",
    "version": 3
   },
   "file_extension": ".py",
   "mimetype": "text/x-python",
   "name": "python",
   "nbconvert_exporter": "python",
   "pygments_lexer": "ipython3",
   "version": "3.4.3"
  }
 },
 "nbformat": 4,
 "nbformat_minor": 2
}
