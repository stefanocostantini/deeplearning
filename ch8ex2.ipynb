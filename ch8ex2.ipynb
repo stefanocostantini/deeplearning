{
 "cells": [
  {
   "cell_type": "markdown",
   "metadata": {},
   "source": [
    "The convnet used in the original DeepDream release was an Inception model, and in practice Inception is known to produce nice-looking DeepDreams, so we’ll use the Inception V3 model that comes with Keras."
   ]
  },
  {
   "cell_type": "code",
   "execution_count": 1,
   "metadata": {},
   "outputs": [
    {
     "name": "stderr",
     "output_type": "stream",
     "text": [
      "/usr/lib64/python3.4/importlib/_bootstrap.py:321: FutureWarning: Conversion of the second argument of issubdtype from `float` to `np.floating` is deprecated. In future, it will be treated as `np.float64 == np.dtype(float).type`.\n",
      "  return f(*args, **kwds)\n",
      "Using TensorFlow backend.\n"
     ]
    }
   ],
   "source": [
    "from keras.applications import inception_v3\n",
    "from keras import backend as K\n",
    "\n",
    "# to disable the training-specific operations\n",
    "K.set_learning_phase(0)\n",
    "\n",
    "# we build the Inception V3 network, but without the convolutional base\n",
    "# model is loaded with pre-trained ImageNet weights\n",
    "model = inception_v3.InceptionV3(weights='imagenet', include_top=False)"
   ]
  },
  {
   "cell_type": "markdown",
   "metadata": {},
   "source": [
    "We will now compute the loss: the quantity we’ll seek to maximize during the gradient-ascent process."
   ]
  },
  {
   "cell_type": "code",
   "execution_count": 49,
   "metadata": {},
   "outputs": [],
   "source": [
    "# Dictionary mapping layer names to a coefficient quantifying how much the layer’s activation contributes \n",
    "# to the loss we’ll seek to maximize. Note that the layer names are hardcoded in the built-in \n",
    "# Inception V3 application. We can list all layer names using model.summary().\n",
    "# Set the contribution that we want specific layers to play.\n",
    "layer_contributions = {\n",
    "    'mixed2': 0.2,\n",
    "    'mixed3': 4.,\n",
    "    'mixed4': 2.,\n",
    "    'mixed5': 3.5,\n",
    "}"
   ]
  },
  {
   "cell_type": "code",
   "execution_count": 50,
   "metadata": {},
   "outputs": [],
   "source": [
    "# Let’s define a tensor that contains the loss: the weighted sum of the L2 norm of \n",
    "# the activations of the layers\n",
    "\n",
    "# Creates a dictionary that maps layer names to layer instances\n",
    "layer_dict = dict([(layer.name, layer) for layer in model.layers])\n",
    "\n",
    "# Define the loss by adding layer contributions to this scalar variable.\n",
    "loss = K.variable(0.)\n",
    "\n",
    "for layer_name in layer_contributions:\n",
    "    coeff = layer_contributions[layer_name]\n",
    "    activation = layer_dict[layer_name].output # retrieves layers output\n",
    "    \n",
    "    scaling = K.prod(K.cast(K.shape(activation), 'float32'))\n",
    "    # Adds the L2 norm of the features of a layer to the loss. \n",
    "    # We avoid border artifacts by only involving nonborder pixels in the loss\n",
    "    loss += coeff * K.sum(K.square(activation[:, 2: -2, 2: -2, :])) / scaling"
   ]
  },
  {
   "cell_type": "markdown",
   "metadata": {},
   "source": [
    "Next, we can set up the gradient-ascent process."
   ]
  },
  {
   "cell_type": "code",
   "execution_count": 82,
   "metadata": {},
   "outputs": [],
   "source": [
    "# This tensor holds the generated image: the dream.\n",
    "dream = model.input\n",
    "# Computes the gradients of the dream with regard to the loss\n",
    "grads = K.gradients(loss, dream)[0]\n",
    "# Normalizes the gradients (important trick)\n",
    "grads /= K.maximum(K.mean(K.abs(grads)), 1e-7)\n",
    "\n",
    "# Sets up a Keras function to retrieve the value of the loss and gradients, given an input image\n",
    "outputs = [loss, grads]\n",
    "fetch_loss_and_grads = K.function([dream], outputs)\n",
    "\n",
    "def eval_loss_and_grads(x):\n",
    "    outs = fetch_loss_and_grads([x])\n",
    "    loss_value = outs[0]\n",
    "    grad_values = outs[1]\n",
    "    return loss_value, grad_values\n",
    "\n",
    "def gradient_ascent(x, iterations, step, max_loss=None):\n",
    "    for i in range(iterations):\n",
    "        loss_value, grad_values = eval_loss_and_grads(x)\n",
    "        if max_loss is not None and loss_value > max_loss:\n",
    "            break\n",
    "        print('...Loss value at', i, ':', loss_value)\n",
    "        x += step * grad_values\n",
    "    return x"
   ]
  },
  {
   "cell_type": "code",
   "execution_count": 84,
   "metadata": {},
   "outputs": [],
   "source": [
    "# Some auxiliary functions\n",
    "import scipy\n",
    "from keras.preprocessing import image\n",
    "\n",
    "def resize_img(img, size):\n",
    "    img = np.copy(img)\n",
    "    factors = (1,\n",
    "               float(size[0]) / img.shape[1],\n",
    "               float(size[1]) / img.shape[2],\n",
    "               1)\n",
    "    return scipy.ndimage.zoom(img, factors, order=1)\n",
    "\n",
    "def save_img(img, fname):\n",
    "    pil_img = deprocess_image(np.copy(img))\n",
    "    scipy.misc.imsave(fname, pil_img)\n",
    "\n",
    "def preprocess_image(image_path):\n",
    "    img = image.load_img(image_path)\n",
    "    img = image.img_to_array(img)\n",
    "    img = np.expand_dims(img, axis=0)\n",
    "    img = inception_v3.preprocess_input(img)\n",
    "    return img\n",
    "\n",
    "def deprocess_image(x):\n",
    "    if K.image_data_format() == 'channels_first':\n",
    "        x = x.reshape((3, x.shape[2], x.shape[3]))\n",
    "        x = x.transpose((1, 2, 0))\n",
    "    else:\n",
    "        x = x.reshape((x.shape[1], x.shape[2], 3))\n",
    "    x /= 2.\n",
    "    x += 0.5\n",
    "    x *= 255.\n",
    "    x = np.clip(x, 0, 255).astype('uint8')\n",
    "    return x"
   ]
  },
  {
   "cell_type": "code",
   "execution_count": 86,
   "metadata": {},
   "outputs": [
    {
     "name": "stdout",
     "output_type": "stream",
     "text": [
      "Processing image shape (2040, 1363)\n",
      "...Loss value at 0 : 1.4454918\n",
      "...Loss value at 1 : 1.9823048\n",
      "...Loss value at 2 : 2.6629438\n",
      "...Loss value at 3 : 3.48536\n",
      "...Loss value at 4 : 4.351623\n",
      "...Loss value at 5 : 5.2246284\n",
      "...Loss value at 6 : 6.1000032\n",
      "...Loss value at 7 : 6.9680915\n",
      "...Loss value at 8 : 7.829274\n",
      "...Loss value at 9 : 8.682612\n",
      "...Loss value at 10 : 9.515408\n"
     ]
    },
    {
     "name": "stderr",
     "output_type": "stream",
     "text": [
      "/usr/lib/python3.4/dist-packages/ipykernel_launcher.py:15: DeprecationWarning: `imsave` is deprecated!\n",
      "`imsave` is deprecated in SciPy 1.0.0, and will be removed in 1.2.0.\n",
      "Use ``imageio.imwrite`` instead.\n",
      "  from ipykernel import kernelapp as app\n"
     ]
    },
    {
     "name": "stdout",
     "output_type": "stream",
     "text": [
      "Processing image shape (2857, 1908)\n",
      "...Loss value at 0 : 3.656387\n",
      "...Loss value at 1 : 5.1398964\n",
      "...Loss value at 2 : 6.329356\n",
      "...Loss value at 3 : 7.4237566\n",
      "...Loss value at 4 : 8.481479\n",
      "...Loss value at 5 : 9.478626\n",
      "Processing image shape (4000, 2672)\n",
      "...Loss value at 0 : 3.5956554\n",
      "...Loss value at 1 : 4.9485965\n",
      "...Loss value at 2 : 6.1025743\n",
      "...Loss value at 3 : 7.1966476\n",
      "...Loss value at 4 : 8.280053\n",
      "...Loss value at 5 : 9.314813\n"
     ]
    }
   ],
   "source": [
    "# Now the actual DeepDream algorithm\n",
    "import numpy as np\n",
    "\n",
    "step = 0.01\n",
    "num_octave = 3\n",
    "octave_scale = 1.4\n",
    "iterations = 40\n",
    "\n",
    "max_loss = 10.\n",
    "base_image_path = '/home/ec2-user/stefano_seaside.jpg'\n",
    "\n",
    "img = preprocess_image(base_image_path)\n",
    "\n",
    "# Prepares a list of shape tuples defining the different scales at which to run gradient ascent\n",
    "original_shape = img.shape[1:3]\n",
    "successive_shapes = [original_shape]\n",
    "for i in range(1, num_octave):\n",
    "    shape = tuple([int(dim / (octave_scale ** i))\n",
    "        for dim in original_shape])\n",
    "    successive_shapes.append(shape)\n",
    "\n",
    "# Reverses the list of shapes so they’re in increasing order\n",
    "successive_shapes = successive_shapes[::-1]\n",
    "# Resizes the Numpy array of the image to the smallest scale\n",
    "original_img = np.copy(img) \n",
    "shrunk_original_img = resize_img(img, successive_shapes[0])\n",
    "\n",
    "for shape in successive_shapes:\n",
    "    print('Processing image shape', shape)\n",
    "    img = resize_img(img, shape)\n",
    "    img = gradient_ascent(img,\n",
    "                          iterations=iterations,\n",
    "                          step=step,\n",
    "                          max_loss=max_loss)\n",
    "    upscaled_shrunk_original_img = resize_img(shrunk_original_img, shape)\n",
    "    same_size_original = resize_img(original_img, shape)\n",
    "    lost_detail = same_size_original - upscaled_shrunk_original_img\n",
    "\n",
    "    img += lost_detail\n",
    "    shrunk_original_img = resize_img(original_img, shape)\n",
    "    save_img(img, fname='dream_at_scale_' + str(shape) + '.png')\n",
    "    \n",
    "save_img(img, fname='final_dream.png')"
   ]
  }
 ],
 "metadata": {
  "kernelspec": {
   "display_name": "Python 3",
   "language": "python",
   "name": "python3"
  },
  "language_info": {
   "codemirror_mode": {
    "name": "ipython",
    "version": 3
   },
   "file_extension": ".py",
   "mimetype": "text/x-python",
   "name": "python",
   "nbconvert_exporter": "python",
   "pygments_lexer": "ipython3",
   "version": "3.4.3"
  }
 },
 "nbformat": 4,
 "nbformat_minor": 2
}
