{
 "cells": [
  {
   "cell_type": "code",
   "execution_count": 1,
   "metadata": {},
   "outputs": [
    {
     "name": "stderr",
     "output_type": "stream",
     "text": [
      "Using TensorFlow backend.\n"
     ]
    }
   ],
   "source": [
    "import keras"
   ]
  },
  {
   "cell_type": "code",
   "execution_count": 2,
   "metadata": {},
   "outputs": [],
   "source": [
    "from keras.datasets import reuters"
   ]
  },
  {
   "cell_type": "code",
   "execution_count": 3,
   "metadata": {},
   "outputs": [
    {
     "name": "stdout",
     "output_type": "stream",
     "text": [
      "Downloading data from https://s3.amazonaws.com/text-datasets/reuters.npz\n",
      "2113536/2110848 [==============================] - 0s 0us/step\n"
     ]
    }
   ],
   "source": [
    "(train_data, train_labels), (test_data, test_labels) = reuters.load_data(num_words=10000)"
   ]
  },
  {
   "cell_type": "code",
   "execution_count": 6,
   "metadata": {},
   "outputs": [
    {
     "name": "stdout",
     "output_type": "stream",
     "text": [
      "8982\n",
      "2246\n"
     ]
    }
   ],
   "source": [
    "print(len(train_data))\n",
    "print(len(test_data))"
   ]
  },
  {
   "cell_type": "code",
   "execution_count": 16,
   "metadata": {},
   "outputs": [],
   "source": [
    "# We now vectorize the data by using one-hot encoding\n",
    "import numpy as np\n",
    "def vectorize_sequences(sequences, dimension=10000):\n",
    "    results = np.zeros((len(sequences), dimension))\n",
    "    for i, sequence in enumerate(sequences):\n",
    "        results[i, sequence] = 1.\n",
    "    return results\n",
    "# Our vectorized training data\n",
    "x_train = vectorize_sequences(train_data)\n",
    "# Our vectorized test data\n",
    "x_test = vectorize_sequences(test_data)"
   ]
  },
  {
   "cell_type": "code",
   "execution_count": 25,
   "metadata": {},
   "outputs": [],
   "source": [
    "# Then we one-hot encode the labels (there's a total of 46)\n",
    "def to_one_hot(labels, dimension=46):\n",
    "    results = np.zeros((len(labels), dimension))\n",
    "    for i, label in enumerate(labels):\n",
    "        results[i, label] = 1.\n",
    "    return results\n",
    "# Our vectorized training labels\n",
    "one_hot_train_labels = to_one_hot(train_labels)\n",
    "# Our vectorized test labels\n",
    "one_hot_test_labels = to_one_hot(test_labels)"
   ]
  },
  {
   "cell_type": "code",
   "execution_count": 26,
   "metadata": {},
   "outputs": [],
   "source": [
    "# Note that this can be done with built-in function in Keras\n",
    "from keras.utils.np_utils import to_categorical\n",
    "one_hot_train_labels = to_categorical(train_labels)\n",
    "one_hot_test_labels = to_categorical(test_labels)"
   ]
  },
  {
   "cell_type": "markdown",
   "metadata": {},
   "source": [
    "### Building the network"
   ]
  },
  {
   "cell_type": "code",
   "execution_count": 39,
   "metadata": {},
   "outputs": [],
   "source": [
    "from keras import models\n",
    "from keras import layers\n",
    "\n",
    "model = models.Sequential()\n",
    "model.add(layers.Dense(64, activation='relu', input_shape=(10000,)))# 64 hidden units to try to capture more info\n",
    "model.add(layers.Dense(64, activation='relu'))\n",
    "model.add(layers.Dense(46, activation='softmax')) #46 different classes"
   ]
  },
  {
   "cell_type": "code",
   "execution_count": 40,
   "metadata": {},
   "outputs": [],
   "source": [
    "model.compile(optimizer='rmsprop',\n",
    "             loss='categorical_crossentropy',\n",
    "             metrics=['accuracy'])"
   ]
  },
  {
   "cell_type": "code",
   "execution_count": 41,
   "metadata": {},
   "outputs": [],
   "source": [
    "# Create validation set\n",
    "x_val = x_train[:1000]\n",
    "partial_x_train = x_train[1000:]\n",
    "y_val = one_hot_train_labels[:1000]\n",
    "partial_y_train = one_hot_train_labels[1000:]"
   ]
  },
  {
   "cell_type": "code",
   "execution_count": 42,
   "metadata": {
    "scrolled": true
   },
   "outputs": [
    {
     "name": "stdout",
     "output_type": "stream",
     "text": [
      "Train on 7982 samples, validate on 1000 samples\n",
      "Epoch 1/20\n",
      "7982/7982 [==============================] - 2s 304us/step - loss: 2.5535 - acc: 0.5239 - val_loss: 1.7351 - val_acc: 0.6350\n",
      "Epoch 2/20\n",
      "7982/7982 [==============================] - 1s 81us/step - loss: 1.4242 - acc: 0.7106 - val_loss: 1.3153 - val_acc: 0.7230\n",
      "Epoch 3/20\n",
      "7982/7982 [==============================] - 1s 81us/step - loss: 1.0563 - acc: 0.7808 - val_loss: 1.1486 - val_acc: 0.7510\n",
      "Epoch 4/20\n",
      "7982/7982 [==============================] - 1s 81us/step - loss: 0.8294 - acc: 0.8247 - val_loss: 1.0559 - val_acc: 0.7670\n",
      "Epoch 5/20\n",
      "7982/7982 [==============================] - 1s 81us/step - loss: 0.6598 - acc: 0.8617 - val_loss: 0.9753 - val_acc: 0.7900\n",
      "Epoch 6/20\n",
      "7982/7982 [==============================] - 1s 80us/step - loss: 0.5256 - acc: 0.8905 - val_loss: 0.9380 - val_acc: 0.7930\n",
      "Epoch 7/20\n",
      "7982/7982 [==============================] - 1s 81us/step - loss: 0.4240 - acc: 0.9108 - val_loss: 0.9350 - val_acc: 0.7980\n",
      "Epoch 8/20\n",
      "7982/7982 [==============================] - 1s 81us/step - loss: 0.3401 - acc: 0.9257 - val_loss: 0.8791 - val_acc: 0.8100\n",
      "Epoch 9/20\n",
      "7982/7982 [==============================] - 1s 80us/step - loss: 0.2850 - acc: 0.9377 - val_loss: 0.9134 - val_acc: 0.8040\n",
      "Epoch 10/20\n",
      "7982/7982 [==============================] - 1s 81us/step - loss: 0.2373 - acc: 0.9449 - val_loss: 0.8922 - val_acc: 0.8140\n",
      "Epoch 11/20\n",
      "7982/7982 [==============================] - 1s 81us/step - loss: 0.2026 - acc: 0.9486 - val_loss: 0.9040 - val_acc: 0.8190\n",
      "Epoch 12/20\n",
      "7982/7982 [==============================] - 1s 81us/step - loss: 0.1816 - acc: 0.9508 - val_loss: 0.9363 - val_acc: 0.8180\n",
      "Epoch 13/20\n",
      "7982/7982 [==============================] - 1s 81us/step - loss: 0.1617 - acc: 0.9565 - val_loss: 0.9691 - val_acc: 0.8080\n",
      "Epoch 14/20\n",
      "7982/7982 [==============================] - 1s 81us/step - loss: 0.1473 - acc: 0.9548 - val_loss: 0.9559 - val_acc: 0.8090\n",
      "Epoch 15/20\n",
      "7982/7982 [==============================] - 1s 81us/step - loss: 0.1369 - acc: 0.9563 - val_loss: 0.9713 - val_acc: 0.8230\n",
      "Epoch 16/20\n",
      "7982/7982 [==============================] - 1s 80us/step - loss: 0.1264 - acc: 0.9578 - val_loss: 0.9611 - val_acc: 0.8140\n",
      "Epoch 17/20\n",
      "7982/7982 [==============================] - 1s 81us/step - loss: 0.1224 - acc: 0.9585 - val_loss: 0.9889 - val_acc: 0.8120\n",
      "Epoch 18/20\n",
      "7982/7982 [==============================] - 1s 81us/step - loss: 0.1195 - acc: 0.9567 - val_loss: 1.0268 - val_acc: 0.8140\n",
      "Epoch 19/20\n",
      "7982/7982 [==============================] - 1s 80us/step - loss: 0.1163 - acc: 0.9574 - val_loss: 1.0178 - val_acc: 0.8090\n",
      "Epoch 20/20\n",
      "7982/7982 [==============================] - 1s 81us/step - loss: 0.1075 - acc: 0.9594 - val_loss: 1.0568 - val_acc: 0.7980\n"
     ]
    }
   ],
   "source": [
    "# We can now train the model for 20 epochs\n",
    "history = model.fit(partial_x_train,\n",
    "                   partial_y_train,\n",
    "                   epochs=20,\n",
    "                   batch_size=512,\n",
    "                   validation_data=(x_val, y_val))"
   ]
  },
  {
   "cell_type": "code",
   "execution_count": 50,
   "metadata": {},
   "outputs": [
    {
     "data": {
      "image/png": "[encoded data removed]",
      "text/plain": [
       "<matplotlib.figure.Figure at 0x7fe884abb550>"
      ]
     },
     "metadata": {},
     "output_type": "display_data"
    }
   ],
   "source": [
    "# And then let's display the results first plotting training and validation loss...\n",
    "import matplotlib.pyplot as plt\n",
    "\n",
    "loss = history.history['loss']\n",
    "val_loss = history.history['val_loss']\n",
    "\n",
    "epochs = range(1, len(loss) + 1)\n",
    "\n",
    "plt.plot(epochs, loss, 'bo', label='Training Loss')\n",
    "plt.plot(epochs, val_loss, 'b', label='Validation Loss')\n",
    "plt.title('Training and validation loss')\n",
    "plt.xlabel('Epoch')\n",
    "plt.ylabel('Loss')\n",
    "plt.legend\n",
    "\n",
    "plt.show()"
   ]
  },
  {
   "cell_type": "code",
   "execution_count": 51,
   "metadata": {},
   "outputs": [
    {
     "data": {
      "image/png": "[encoded data removed]",
      "text/plain": [
       "<matplotlib.figure.Figure at 0x7fe8848608d0>"
      ]
     },
     "metadata": {},
     "output_type": "display_data"
    }
   ],
   "source": [
    "#... and then training and validation accuracy\n",
    "plt.clf()   # clear figure\n",
    "acc = history.history['acc']\n",
    "val_acc = history.history['val_acc']\n",
    "plt.plot(epochs, acc, 'bo', label='Training acc')\n",
    "plt.plot(epochs, val_acc, 'b', label='Validation acc')\n",
    "plt.title('Training and validation accuracy')\n",
    "plt.xlabel('Epochs')\n",
    "plt.ylabel('Loss')\n",
    "plt.legend()\n",
    "plt.show()"
   ]
  },
  {
   "cell_type": "code",
   "execution_count": 54,
   "metadata": {
    "scrolled": true
   },
   "outputs": [
    {
     "name": "stdout",
     "output_type": "stream",
     "text": [
      "Train on 7982 samples, validate on 1000 samples\n",
      "Epoch 1/9\n",
      "7982/7982 [==============================] - 1s 120us/step - loss: 2.6131 - acc: 0.4654 - val_loss: 1.7283 - val_acc: 0.6350\n",
      "Epoch 2/9\n",
      "7982/7982 [==============================] - 1s 80us/step - loss: 1.4061 - acc: 0.7090 - val_loss: 1.2735 - val_acc: 0.7310\n",
      "Epoch 3/9\n",
      "7982/7982 [==============================] - 1s 80us/step - loss: 1.0408 - acc: 0.7798 - val_loss: 1.1025 - val_acc: 0.7640\n",
      "Epoch 4/9\n",
      "7982/7982 [==============================] - 1s 79us/step - loss: 0.8165 - acc: 0.8320 - val_loss: 1.0265 - val_acc: 0.7820\n",
      "Epoch 5/9\n",
      "7982/7982 [==============================] - 1s 79us/step - loss: 0.6496 - acc: 0.8632 - val_loss: 0.9519 - val_acc: 0.8060\n",
      "Epoch 6/9\n",
      "7982/7982 [==============================] - 1s 79us/step - loss: 0.5286 - acc: 0.8903 - val_loss: 0.9200 - val_acc: 0.8110\n",
      "Epoch 7/9\n",
      "7982/7982 [==============================] - 1s 79us/step - loss: 0.4207 - acc: 0.9113 - val_loss: 0.8986 - val_acc: 0.8160\n",
      "Epoch 8/9\n",
      "7982/7982 [==============================] - 1s 79us/step - loss: 0.3481 - acc: 0.9257 - val_loss: 0.8909 - val_acc: 0.8180\n",
      "Epoch 9/9\n",
      "7982/7982 [==============================] - 1s 80us/step - loss: 0.2860 - acc: 0.9352 - val_loss: 0.8845 - val_acc: 0.8210\n",
      "2246/2246 [==============================] - 0s 120us/step\n"
     ]
    }
   ],
   "source": [
    "# The figure above suggests there may be overfitting after 9 epochs. We re-train the network from scratch\n",
    "# Limiting the number of epochs to 9\n",
    "model = models.Sequential()\n",
    "model.add(layers.Dense(64, activation='relu', input_shape=(10000,)))\n",
    "model.add(layers.Dense(64, activation='relu'))\n",
    "model.add(layers.Dense(46, activation='softmax'))\n",
    "model.compile(optimizer='rmsprop',\n",
    "              loss='categorical_crossentropy',\n",
    "              metrics=['accuracy'])\n",
    "model.fit(partial_x_train,\n",
    "          partial_y_train,\n",
    "          epochs=9,\n",
    "          batch_size=512,\n",
    "          validation_data=(x_val, y_val))"
   ]
  },
  {
   "cell_type": "code",
   "execution_count": 60,
   "metadata": {},
   "outputs": [
    {
     "name": "stdout",
     "output_type": "stream",
     "text": [
      "2246/2246 [==============================] - 0s 121us/step\n"
     ]
    },
    {
     "data": {
      "text/plain": [
       "[0.98439220711257136, 0.78628673202101929]"
      ]
     },
     "execution_count": 60,
     "metadata": {},
     "output_type": "execute_result"
    }
   ],
   "source": [
    "# We evaluate the model on the test set.\n",
    "results = model.evaluate(x_test, one_hot_test_labels)\n",
    "results\n",
    "# Accuracy is ~80% which is pretty good considering that a random classifier would\n",
    "# achieve about ~18%"
   ]
  },
  {
   "cell_type": "markdown",
   "metadata": {},
   "source": [
    "### Encoding the labels as tensors"
   ]
  },
  {
   "cell_type": "code",
   "execution_count": 62,
   "metadata": {},
   "outputs": [],
   "source": [
    "# Note that we one-hot encoded the labels, but we could have used an integer tensor, simply turning them\n",
    "# into a numpy array like this\n",
    "y_train = np.array(train_labels)\n",
    "y_test = np.array(test_labels)"
   ]
  },
  {
   "cell_type": "code",
   "execution_count": null,
   "metadata": {},
   "outputs": [],
   "source": [
    "# The only difference in this case is that the loss function needs to be the\n",
    "# `sparse_categorical_crossentropy`"
   ]
  },
  {
   "cell_type": "markdown",
   "metadata": {},
   "source": [
    "### Avoid information bottlenecks\n"
   ]
  },
  {
   "cell_type": "code",
   "execution_count": 63,
   "metadata": {},
   "outputs": [],
   "source": [
    "# If we have too few units in a layer, then the information that is lost\n",
    "# can't be recovered any more. See the example below where we only have 4 hidden units\n",
    "# in the middle layer. The accuracy is much lower."
   ]
  },
  {
   "cell_type": "code",
   "execution_count": 70,
   "metadata": {
    "scrolled": true
   },
   "outputs": [
    {
     "name": "stdout",
     "output_type": "stream",
     "text": [
      "Train on 7982 samples, validate on 1000 samples\n",
      "Epoch 1/20\n",
      "7982/7982 [==============================] - 1s 121us/step - loss: 2.7476 - acc: 0.4085 - val_loss: 2.0162 - val_acc: 0.5810\n",
      "Epoch 2/20\n",
      "7982/7982 [==============================] - 1s 79us/step - loss: 1.6351 - acc: 0.6158 - val_loss: 1.5328 - val_acc: 0.6230\n",
      "Epoch 3/20\n",
      "7982/7982 [==============================] - 1s 79us/step - loss: 1.3255 - acc: 0.6421 - val_loss: 1.4283 - val_acc: 0.6440\n",
      "Epoch 4/20\n",
      "7982/7982 [==============================] - 1s 79us/step - loss: 1.1574 - acc: 0.6983 - val_loss: 1.3557 - val_acc: 0.6880\n",
      "Epoch 5/20\n",
      "7982/7982 [==============================] - 1s 79us/step - loss: 1.0205 - acc: 0.7548 - val_loss: 1.3134 - val_acc: 0.6970\n",
      "Epoch 6/20\n",
      "7982/7982 [==============================] - 1s 78us/step - loss: 0.9125 - acc: 0.7804 - val_loss: 1.3272 - val_acc: 0.7150\n",
      "Epoch 7/20\n",
      "7982/7982 [==============================] - 1s 79us/step - loss: 0.8293 - acc: 0.7929 - val_loss: 1.3047 - val_acc: 0.7240\n",
      "Epoch 8/20\n",
      "7982/7982 [==============================] - 1s 77us/step - loss: 0.7600 - acc: 0.8112 - val_loss: 1.3413 - val_acc: 0.7170\n",
      "Epoch 9/20\n",
      "7982/7982 [==============================] - 1s 79us/step - loss: 0.7005 - acc: 0.8208 - val_loss: 1.3715 - val_acc: 0.7120\n",
      "Epoch 10/20\n",
      "7982/7982 [==============================] - 1s 79us/step - loss: 0.6537 - acc: 0.8270 - val_loss: 1.3795 - val_acc: 0.7210\n",
      "Epoch 11/20\n",
      "7982/7982 [==============================] - 1s 78us/step - loss: 0.6143 - acc: 0.8316 - val_loss: 1.4289 - val_acc: 0.7120\n",
      "Epoch 12/20\n",
      "7982/7982 [==============================] - 1s 78us/step - loss: 0.5795 - acc: 0.8373 - val_loss: 1.4807 - val_acc: 0.7070\n",
      "Epoch 13/20\n",
      "7982/7982 [==============================] - 1s 79us/step - loss: 0.5488 - acc: 0.8440 - val_loss: 1.5138 - val_acc: 0.7020\n",
      "Epoch 14/20\n",
      "7982/7982 [==============================] - 1s 79us/step - loss: 0.5205 - acc: 0.8517 - val_loss: 1.5544 - val_acc: 0.7060\n",
      "Epoch 15/20\n",
      "7982/7982 [==============================] - 1s 78us/step - loss: 0.4959 - acc: 0.8606 - val_loss: 1.5600 - val_acc: 0.7090\n",
      "Epoch 16/20\n",
      "7982/7982 [==============================] - 1s 77us/step - loss: 0.4742 - acc: 0.8647 - val_loss: 1.6668 - val_acc: 0.7100\n",
      "Epoch 17/20\n",
      "7982/7982 [==============================] - 1s 78us/step - loss: 0.4540 - acc: 0.8697 - val_loss: 1.6503 - val_acc: 0.7110\n",
      "Epoch 18/20\n",
      "7982/7982 [==============================] - 1s 78us/step - loss: 0.4350 - acc: 0.8740 - val_loss: 1.7156 - val_acc: 0.7130\n",
      "Epoch 19/20\n",
      "7982/7982 [==============================] - 1s 78us/step - loss: 0.4178 - acc: 0.8752 - val_loss: 1.7474 - val_acc: 0.7060\n",
      "Epoch 20/20\n",
      "7982/7982 [==============================] - 1s 79us/step - loss: 0.4027 - acc: 0.8806 - val_loss: 1.7775 - val_acc: 0.7120\n"
     ]
    },
    {
     "data": {
      "text/plain": [
       "<keras.callbacks.History at 0x7fe86195a748>"
      ]
     },
     "execution_count": 70,
     "metadata": {},
     "output_type": "execute_result"
    }
   ],
   "source": [
    "model = models.Sequential()\n",
    "model.add(layers.Dense(64, activation='relu', input_shape=(10000,)))\n",
    "model.add(layers.Dense(4, activation='relu'))\n",
    "model.add(layers.Dense(46, activation='softmax'))\n",
    "model.compile(optimizer='rmsprop',\n",
    "              loss='categorical_crossentropy',\n",
    "              metrics=['accuracy'])\n",
    "model.fit(partial_x_train,\n",
    "          partial_y_train,\n",
    "          epochs=20,\n",
    "          batch_size=128,\n",
    "          validation_data=(x_val, y_val))"
   ]
  },
  {
   "cell_type": "markdown",
   "metadata": {},
   "source": [
    "### Try changing the number of hidden units"
   ]
  },
  {
   "cell_type": "code",
   "execution_count": 77,
   "metadata": {
    "scrolled": true
   },
   "outputs": [
    {
     "name": "stdout",
     "output_type": "stream",
     "text": [
      "Train on 7982 samples, validate on 1000 samples\n",
      "Epoch 1/9\n",
      "7982/7982 [==============================] - 1s 126us/step - loss: 2.5844 - acc: 0.5258 - val_loss: 1.7204 - val_acc: 0.6360\n",
      "Epoch 2/9\n",
      "7982/7982 [==============================] - 1s 80us/step - loss: 1.4080 - acc: 0.7021 - val_loss: 1.3259 - val_acc: 0.7040\n",
      "Epoch 3/9\n",
      "7982/7982 [==============================] - 1s 80us/step - loss: 1.0539 - acc: 0.7670 - val_loss: 1.1369 - val_acc: 0.7460\n",
      "Epoch 4/9\n",
      "7982/7982 [==============================] - 1s 80us/step - loss: 0.8322 - acc: 0.8231 - val_loss: 1.0433 - val_acc: 0.7650\n",
      "Epoch 5/9\n",
      "7982/7982 [==============================] - 1s 80us/step - loss: 0.6665 - acc: 0.8612 - val_loss: 0.9743 - val_acc: 0.7900\n",
      "Epoch 6/9\n",
      "7982/7982 [==============================] - 1s 80us/step - loss: 0.5374 - acc: 0.8881 - val_loss: 0.9255 - val_acc: 0.8040\n",
      "Epoch 7/9\n",
      "7982/7982 [==============================] - 1s 79us/step - loss: 0.4325 - acc: 0.9112 - val_loss: 0.9164 - val_acc: 0.8000\n",
      "Epoch 8/9\n",
      "7982/7982 [==============================] - 1s 80us/step - loss: 0.3480 - acc: 0.9287 - val_loss: 0.8798 - val_acc: 0.8210\n",
      "Epoch 9/9\n",
      "7982/7982 [==============================] - 1s 80us/step - loss: 0.2923 - acc: 0.9366 - val_loss: 0.8874 - val_acc: 0.8150\n"
     ]
    }
   ],
   "source": [
    "### First, let's re-train our preferred model from scratch\n",
    "model = models.Sequential()\n",
    "model.add(layers.Dense(64, activation='relu', input_shape=(10000,)))\n",
    "model.add(layers.Dense(64, activation='relu'))\n",
    "model.add(layers.Dense(46, activation='softmax'))\n",
    "model.compile(optimizer='rmsprop',\n",
    "              loss='categorical_crossentropy',\n",
    "              metrics=['accuracy'])\n",
    "history = model.fit(partial_x_train,\n",
    "          partial_y_train,\n",
    "          epochs=9,\n",
    "          batch_size=512,\n",
    "          validation_data=(x_val, y_val))"
   ]
  },
  {
   "cell_type": "code",
   "execution_count": 78,
   "metadata": {
    "scrolled": true
   },
   "outputs": [
    {
     "name": "stdout",
     "output_type": "stream",
     "text": [
      "Train on 7982 samples, validate on 1000 samples\n",
      "Epoch 1/9\n",
      "7982/7982 [==============================] - 1s 126us/step - loss: 2.9842 - acc: 0.4941 - val_loss: 2.2070 - val_acc: 0.5960\n",
      "Epoch 2/9\n",
      "7982/7982 [==============================] - 1s 79us/step - loss: 1.8184 - acc: 0.6485 - val_loss: 1.6000 - val_acc: 0.6730\n",
      "Epoch 3/9\n",
      "7982/7982 [==============================] - 1s 79us/step - loss: 1.3625 - acc: 0.7212 - val_loss: 1.3468 - val_acc: 0.7130\n",
      "Epoch 4/9\n",
      "7982/7982 [==============================] - 1s 79us/step - loss: 1.1212 - acc: 0.7661 - val_loss: 1.2309 - val_acc: 0.7340\n",
      "Epoch 5/9\n",
      "7982/7982 [==============================] - 1s 79us/step - loss: 0.9532 - acc: 0.7932 - val_loss: 1.1260 - val_acc: 0.7480\n",
      "Epoch 6/9\n",
      "7982/7982 [==============================] - 1s 79us/step - loss: 0.8200 - acc: 0.8210 - val_loss: 1.0733 - val_acc: 0.7660\n",
      "Epoch 7/9\n",
      "7982/7982 [==============================] - 1s 79us/step - loss: 0.7078 - acc: 0.8428 - val_loss: 1.0365 - val_acc: 0.7740\n",
      "Epoch 8/9\n",
      "7982/7982 [==============================] - 1s 80us/step - loss: 0.6141 - acc: 0.8636 - val_loss: 1.0049 - val_acc: 0.7830\n",
      "Epoch 9/9\n",
      "7982/7982 [==============================] - 1s 79us/step - loss: 0.5362 - acc: 0.8851 - val_loss: 0.9776 - val_acc: 0.7970\n",
      "Train on 7982 samples, validate on 1000 samples\n",
      "Epoch 1/9\n",
      "7982/7982 [==============================] - 1s 138us/step - loss: 2.9513 - acc: 0.5253 - val_loss: 2.1208 - val_acc: 0.6040\n",
      "Epoch 2/9\n",
      "7982/7982 [==============================] - 0s 53us/step - loss: 1.7746 - acc: 0.6526 - val_loss: 1.5775 - val_acc: 0.6470\n",
      "Epoch 3/9\n",
      "7982/7982 [==============================] - 0s 52us/step - loss: 1.3633 - acc: 0.7096 - val_loss: 1.3615 - val_acc: 0.6930\n",
      "Epoch 4/9\n",
      "7982/7982 [==============================] - 0s 52us/step - loss: 1.1397 - acc: 0.7365 - val_loss: 1.2388 - val_acc: 0.7210\n",
      "Epoch 5/9\n",
      "7982/7982 [==============================] - 0s 51us/step - loss: 0.9800 - acc: 0.7719 - val_loss: 1.1574 - val_acc: 0.7450\n",
      "Epoch 6/9\n",
      "7982/7982 [==============================] - 0s 51us/step - loss: 0.8492 - acc: 0.8069 - val_loss: 1.1145 - val_acc: 0.7440\n",
      "Epoch 7/9\n",
      "7982/7982 [==============================] - 0s 52us/step - loss: 0.7371 - acc: 0.8325 - val_loss: 1.0582 - val_acc: 0.7700\n",
      "Epoch 8/9\n",
      "7982/7982 [==============================] - 0s 52us/step - loss: 0.6382 - acc: 0.8569 - val_loss: 1.0370 - val_acc: 0.7670\n",
      "Epoch 9/9\n",
      "7982/7982 [==============================] - 0s 52us/step - loss: 0.5523 - acc: 0.8779 - val_loss: 0.9977 - val_acc: 0.7870\n"
     ]
    }
   ],
   "source": [
    "# Then let's train two models with fewer or more hiddden units\n",
    "modelF = models.Sequential()\n",
    "modelF.add(layers.Dense(32, activation='relu', input_shape=(10000,)))\n",
    "modelF.add(layers.Dense(32, activation='relu'))\n",
    "modelF.add(layers.Dense(46, activation='softmax'))\n",
    "modelF.compile(optimizer='rmsprop',\n",
    "              loss='categorical_crossentropy',\n",
    "              metrics=['accuracy'])\n",
    "historyF = modelF.fit(partial_x_train,\n",
    "          partial_y_train,\n",
    "          epochs=9,\n",
    "          batch_size=512,\n",
    "          validation_data=(x_val, y_val))\n",
    "\n",
    "modelM = models.Sequential()\n",
    "modelM.add(layers.Dense(32, activation='relu', input_shape=(10000,)))\n",
    "modelM.add(layers.Dense(32, activation='relu'))\n",
    "modelM.add(layers.Dense(46, activation='softmax'))\n",
    "modelM.compile(optimizer='rmsprop',\n",
    "              loss='categorical_crossentropy',\n",
    "              metrics=['accuracy'])\n",
    "historyM = modelM.fit(partial_x_train,\n",
    "          partial_y_train,\n",
    "          epochs=9,\n",
    "          batch_size=512,\n",
    "          validation_data=(x_val, y_val))"
   ]
  },
  {
   "cell_type": "code",
   "execution_count": 85,
   "metadata": {},
   "outputs": [
    {
     "data": {
      "image/png": "[encoded data removed]",
      "text/plain": [
       "<matplotlib.figure.Figure at 0x7fe884e57da0>"
      ]
     },
     "metadata": {},
     "output_type": "display_data"
    }
   ],
   "source": [
    "# We can now compare the validation accuracy of the three models\n",
    "val = history.history['val_acc']\n",
    "valF = historyF.history['val_acc']\n",
    "valM = historyM.history['val_acc']\n",
    "\n",
    "epochs = range(1, len(val)+1)\n",
    "\n",
    "plt.clf()   # clear figure\n",
    "acc = history.history['acc']\n",
    "val_acc = history.history['val_acc']\n",
    "plt.plot(epochs, val, 'b', label='Val accuracy 64')\n",
    "plt.plot(epochs, valF, 'r', label='Val accuracy 32')\n",
    "plt.plot(epochs, valM, 'g', label='Val accuracy 128')\n",
    "plt.title('Validation accuracy with different numbers of hidden units')\n",
    "plt.xlabel('Epochs')\n",
    "plt.ylabel('Accuracy')\n",
    "plt.legend()\n",
    "plt.show()\n",
    "# We can see that fewer or more hidden units lead to lower validation accuracy. In the former case, this may be due\n",
    "# having a bit of an information bottleneck. In the second case, there may be too much overfitting."
   ]
  },
  {
   "cell_type": "markdown",
   "metadata": {},
   "source": [
    "### Changing the number of layers"
   ]
  },
  {
   "cell_type": "code",
   "execution_count": 86,
   "metadata": {
    "scrolled": true
   },
   "outputs": [
    {
     "name": "stdout",
     "output_type": "stream",
     "text": [
      "Train on 7982 samples, validate on 1000 samples\n",
      "Epoch 1/9\n",
      "7982/7982 [==============================] - 1s 116us/step - loss: 2.7110 - acc: 0.5531 - val_loss: 1.7879 - val_acc: 0.6430\n",
      "Epoch 2/9\n",
      "7982/7982 [==============================] - 0s 52us/step - loss: 1.4363 - acc: 0.7132 - val_loss: 1.2920 - val_acc: 0.7210\n",
      "Epoch 3/9\n",
      "7982/7982 [==============================] - 0s 52us/step - loss: 1.0529 - acc: 0.7751 - val_loss: 1.1126 - val_acc: 0.7600\n",
      "Epoch 4/9\n",
      "7982/7982 [==============================] - 0s 53us/step - loss: 0.8294 - acc: 0.8270 - val_loss: 1.0180 - val_acc: 0.7830\n",
      "Epoch 5/9\n",
      "7982/7982 [==============================] - 0s 52us/step - loss: 0.6576 - acc: 0.8654 - val_loss: 0.9508 - val_acc: 0.8000\n",
      "Epoch 6/9\n",
      "7982/7982 [==============================] - 0s 53us/step - loss: 0.5194 - acc: 0.8953 - val_loss: 0.9236 - val_acc: 0.8030\n",
      "Epoch 7/9\n",
      "7982/7982 [==============================] - 0s 53us/step - loss: 0.4146 - acc: 0.9163 - val_loss: 0.8807 - val_acc: 0.8080\n",
      "Epoch 8/9\n",
      "7982/7982 [==============================] - 0s 52us/step - loss: 0.3352 - acc: 0.9281 - val_loss: 0.8728 - val_acc: 0.8070\n",
      "Epoch 9/9\n",
      "7982/7982 [==============================] - 0s 53us/step - loss: 0.2727 - acc: 0.9384 - val_loss: 0.8832 - val_acc: 0.8090\n",
      "Train on 7982 samples, validate on 1000 samples\n",
      "Epoch 1/9\n",
      "7982/7982 [==============================] - 1s 123us/step - loss: 2.5785 - acc: 0.4821 - val_loss: 1.7127 - val_acc: 0.6070\n",
      "Epoch 2/9\n",
      "7982/7982 [==============================] - 0s 53us/step - loss: 1.4414 - acc: 0.6795 - val_loss: 1.4365 - val_acc: 0.6350\n",
      "Epoch 3/9\n",
      "7982/7982 [==============================] - 0s 53us/step - loss: 1.1047 - acc: 0.7536 - val_loss: 1.1646 - val_acc: 0.7390\n",
      "Epoch 4/9\n",
      "7982/7982 [==============================] - 0s 53us/step - loss: 0.8643 - acc: 0.8156 - val_loss: 1.0410 - val_acc: 0.7710\n",
      "Epoch 5/9\n",
      "7982/7982 [==============================] - 0s 53us/step - loss: 0.6904 - acc: 0.8462 - val_loss: 0.9866 - val_acc: 0.7860\n",
      "Epoch 6/9\n",
      "7982/7982 [==============================] - 0s 54us/step - loss: 0.5454 - acc: 0.8762 - val_loss: 0.9640 - val_acc: 0.8100\n",
      "Epoch 7/9\n",
      "7982/7982 [==============================] - 0s 54us/step - loss: 0.4553 - acc: 0.9004 - val_loss: 0.9549 - val_acc: 0.8100\n",
      "Epoch 8/9\n",
      "7982/7982 [==============================] - 0s 53us/step - loss: 0.3556 - acc: 0.9228 - val_loss: 0.9985 - val_acc: 0.7970\n",
      "Epoch 9/9\n",
      "7982/7982 [==============================] - 0s 53us/step - loss: 0.2943 - acc: 0.9376 - val_loss: 0.9678 - val_acc: 0.8090\n"
     ]
    }
   ],
   "source": [
    "# Now we try to change the number of layers (down to 1 and up to 3) and again\n",
    "# observe how the validation accuracy varies.\n",
    "modelF = models.Sequential()\n",
    "modelF.add(layers.Dense(64, activation='relu', input_shape=(10000,)))\n",
    "modelF.add(layers.Dense(64, activation='relu'))\n",
    "modelF.add(layers.Dense(46, activation='softmax'))\n",
    "modelF.compile(optimizer='rmsprop',\n",
    "              loss='categorical_crossentropy',\n",
    "              metrics=['accuracy'])\n",
    "historyF = modelF.fit(partial_x_train,\n",
    "          partial_y_train,\n",
    "          epochs=9,\n",
    "          batch_size=512,\n",
    "          validation_data=(x_val, y_val))\n",
    "\n",
    "modelM = models.Sequential()\n",
    "modelM.add(layers.Dense(64, activation='relu', input_shape=(10000,)))\n",
    "modelM.add(layers.Dense(64, activation='relu'))\n",
    "modelM.add(layers.Dense(64, activation='relu'))\n",
    "modelM.add(layers.Dense(46, activation='softmax'))\n",
    "modelM.compile(optimizer='rmsprop',\n",
    "              loss='categorical_crossentropy',\n",
    "              metrics=['accuracy'])\n",
    "historyM = modelM.fit(partial_x_train,\n",
    "          partial_y_train,\n",
    "          epochs=9,\n",
    "          batch_size=512,\n",
    "          validation_data=(x_val, y_val))"
   ]
  },
  {
   "cell_type": "code",
   "execution_count": 88,
   "metadata": {
    "scrolled": true
   },
   "outputs": [
    {
     "data": {
      "image/png": "[encoded data removed]",
      "text/plain": [
       "<matplotlib.figure.Figure at 0x7fe7f16e4ac8>"
      ]
     },
     "metadata": {},
     "output_type": "display_data"
    }
   ],
   "source": [
    "# We can now compare the validation accuracy of the three models\n",
    "val = history.history['val_acc']\n",
    "valF = historyF.history['val_acc']\n",
    "valM = historyM.history['val_acc']\n",
    "\n",
    "epochs = range(1, len(val)+1)\n",
    "\n",
    "plt.clf()   # clear figure\n",
    "acc = history.history['acc']\n",
    "val_acc = history.history['val_acc']\n",
    "plt.plot(epochs, val, 'b', label='Val accuracy 2')\n",
    "plt.plot(epochs, valF, 'r', label='Val accuracy 1')\n",
    "plt.plot(epochs, valM, 'g', label='Val accuracy 3')\n",
    "plt.title('Validation accuracy with different numbers of hidden units')\n",
    "plt.xlabel('Epochs')\n",
    "plt.ylabel('Accuracy')\n",
    "plt.legend()\n",
    "plt.show()\n",
    "# In this case the perfomance seems similar but learning is slower when there are 3 layers."
   ]
  }
 ],
 "metadata": {
  "kernelspec": {
   "display_name": "Python 3",
   "language": "python",
   "name": "python3"
  },
  "language_info": {
   "codemirror_mode": {
    "name": "ipython",
    "version": 3
   },
   "file_extension": ".py",
   "mimetype": "text/x-python",
   "name": "python",
   "nbconvert_exporter": "python",
   "pygments_lexer": "ipython3",
   "version": "3.4.3"
  }
 },
 "nbformat": 4,
 "nbformat_minor": 2
}
