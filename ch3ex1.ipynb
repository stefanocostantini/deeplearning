{
 "cells": [
  {
   "cell_type": "code",
   "execution_count": 2,
   "metadata": {
    "scrolled": true
   },
   "outputs": [
    {
     "name": "stderr",
     "output_type": "stream",
     "text": [
      "Using TensorFlow backend.\n"
     ]
    }
   ],
   "source": [
    "from keras.datasets import imdb"
   ]
  },
  {
   "cell_type": "code",
   "execution_count": 3,
   "metadata": {
    "scrolled": true
   },
   "outputs": [],
   "source": [
    "# Load in the data\n",
    "(train_data, train_labels), (test_data, test_labels) = imdb.load_data(num_words=10000)"
   ]
  },
  {
   "cell_type": "code",
   "execution_count": 4,
   "metadata": {
    "scrolled": true
   },
   "outputs": [
    {
     "data": {
      "text/plain": [
       "9999"
      ]
     },
     "execution_count": 4,
     "metadata": {},
     "output_type": "execute_result"
    }
   ],
   "source": [
    "# Check that no reviews is longer than 10,000 words (note that there is a sequence of works for each of the movies\n",
    "# in the training data)\n",
    "max([max(sequence) for sequence in train_data])"
   ]
  },
  {
   "cell_type": "markdown",
   "metadata": {},
   "source": [
    "### Data preparation"
   ]
  },
  {
   "cell_type": "markdown",
   "metadata": {},
   "source": [
    "The data is currently in the form of integers. We cannot feed them to the network as is, but we need to turn the lists into tensors. We one-hot encode the lists. This allows us to use as first layer a `Dense` layer, which can handle floating point vector data"
   ]
  },
  {
   "cell_type": "markdown",
   "metadata": {},
   "source": [
    "Let's vectorize the data first."
   ]
  },
  {
   "cell_type": "code",
   "execution_count": 5,
   "metadata": {
    "scrolled": true
   },
   "outputs": [],
   "source": [
    "import numpy as np\n",
    "def vectorize_sequences(sequences, dimension=10000):\n",
    "    results = np.zeros((len(sequences), dimension))\n",
    "    for i, sequence in enumerate(sequences):\n",
    "        results[i, sequence] = 1.\n",
    "    return results"
   ]
  },
  {
   "cell_type": "code",
   "execution_count": 6,
   "metadata": {
    "scrolled": true
   },
   "outputs": [],
   "source": [
    "# Now let's vectorize the data\n",
    "x_train = vectorize_sequences(train_data)\n",
    "x_test = vectorize_sequences(test_data)"
   ]
  },
  {
   "cell_type": "code",
   "execution_count": 10,
   "metadata": {
    "scrolled": true
   },
   "outputs": [],
   "source": [
    "# And let's also vectorize the labels (turn integers into vectors\n",
    "# of floats of length 25,000)\n",
    "y_train = np.asarray(train_labels).astype('float32')\n",
    "y_test = np.asarray(test_labels).astype('float32')"
   ]
  },
  {
   "cell_type": "markdown",
   "metadata": {},
   "source": [
    "### Building the network"
   ]
  },
  {
   "cell_type": "markdown",
   "metadata": {},
   "source": [
    "We build a network with two intermediate layers with 16 hidden units each. The third layer will output the scalar prediction (0 or 1).\n",
    "We use `relu` functions in the intermediate layers, while we use a sigmoid in the output layer. This will output a probability of the review being positive (having label = 1)"
   ]
  },
  {
   "cell_type": "code",
   "execution_count": 16,
   "metadata": {
    "scrolled": true
   },
   "outputs": [],
   "source": [
    "from keras import models\n",
    "from keras import layers"
   ]
  },
  {
   "cell_type": "code",
   "execution_count": 17,
   "metadata": {
    "scrolled": true
   },
   "outputs": [],
   "source": [
    "# Define model\n",
    "model = models.Sequential()\n",
    "model.add(layers.Dense(16, activation = 'relu', input_shape = (10000,)))\n",
    "model.add(layers.Dense(16, activation = 'relu'))\n",
    "model.add(layers.Dense(1, activation = 'sigmoid'))"
   ]
  },
  {
   "cell_type": "code",
   "execution_count": 19,
   "metadata": {
    "scrolled": true
   },
   "outputs": [],
   "source": [
    "# Compile model and pick loss function and optimizer\n",
    "model.compile(optimizer = 'rmsprop',\n",
    "             loss = 'binary_crossentropy',\n",
    "             metrics = ['accuracy'])"
   ]
  },
  {
   "cell_type": "code",
   "execution_count": 53,
   "metadata": {
    "scrolled": true
   },
   "outputs": [],
   "source": [
    "# Now create a validation set from the original training data\n",
    "x_val = x_train[:10000]\n",
    "partial_x_train = x_train[10000:]\n",
    "y_val = y_train[:10000]\n",
    "partial_y_train = y_train[10000:]"
   ]
  },
  {
   "cell_type": "code",
   "execution_count": 54,
   "metadata": {
    "scrolled": false
   },
   "outputs": [
    {
     "name": "stdout",
     "output_type": "stream",
     "text": [
      "Train on 15000 samples, validate on 10000 samples\n",
      "Epoch 1/20\n",
      "15000/15000 [==============================] - 3s 227us/step - loss: 0.5936 - acc: 0.7072 - val_loss: 0.4990 - val_acc: 0.8602\n",
      "Epoch 2/20\n",
      "15000/15000 [==============================] - 2s 113us/step - loss: 0.3582 - acc: 0.8887 - val_loss: 0.3246 - val_acc: 0.8829\n",
      "Epoch 3/20\n",
      "15000/15000 [==============================] - 2s 113us/step - loss: 0.2407 - acc: 0.9245 - val_loss: 0.2934 - val_acc: 0.8858\n",
      "Epoch 4/20\n",
      "15000/15000 [==============================] - 2s 113us/step - loss: 0.1838 - acc: 0.9426 - val_loss: 0.2939 - val_acc: 0.8824\n",
      "Epoch 5/20\n",
      "15000/15000 [==============================] - 2s 113us/step - loss: 0.1455 - acc: 0.9547 - val_loss: 0.3288 - val_acc: 0.8714\n",
      "Epoch 6/20\n",
      "15000/15000 [==============================] - 2s 113us/step - loss: 0.1201 - acc: 0.9624 - val_loss: 0.3487 - val_acc: 0.8682\n",
      "Epoch 7/20\n",
      "15000/15000 [==============================] - 2s 113us/step - loss: 0.0982 - acc: 0.9703 - val_loss: 0.3239 - val_acc: 0.8805\n",
      "Epoch 8/20\n",
      "15000/15000 [==============================] - 2s 113us/step - loss: 0.0781 - acc: 0.9775 - val_loss: 0.3483 - val_acc: 0.8764\n",
      "Epoch 9/20\n",
      "15000/15000 [==============================] - 2s 113us/step - loss: 0.0608 - acc: 0.9854 - val_loss: 0.4113 - val_acc: 0.8686\n",
      "Epoch 10/20\n",
      "15000/15000 [==============================] - 2s 113us/step - loss: 0.0506 - acc: 0.9878 - val_loss: 0.4159 - val_acc: 0.8719\n",
      "Epoch 11/20\n",
      "15000/15000 [==============================] - 2s 113us/step - loss: 0.0386 - acc: 0.9917 - val_loss: 0.4404 - val_acc: 0.8716\n",
      "Epoch 12/20\n",
      "15000/15000 [==============================] - 2s 113us/step - loss: 0.0305 - acc: 0.9947 - val_loss: 0.5098 - val_acc: 0.8608\n",
      "Epoch 13/20\n",
      "15000/15000 [==============================] - 2s 113us/step - loss: 0.0246 - acc: 0.9954 - val_loss: 0.5040 - val_acc: 0.8669\n",
      "Epoch 14/20\n",
      "15000/15000 [==============================] - 2s 113us/step - loss: 0.0153 - acc: 0.9983 - val_loss: 0.5412 - val_acc: 0.8673\n",
      "Epoch 15/20\n",
      "15000/15000 [==============================] - 2s 113us/step - loss: 0.0150 - acc: 0.9977 - val_loss: 0.5737 - val_acc: 0.8651\n",
      "Epoch 16/20\n",
      "15000/15000 [==============================] - 2s 113us/step - loss: 0.0110 - acc: 0.9985 - val_loss: 0.6099 - val_acc: 0.8647\n",
      "Epoch 17/20\n",
      "15000/15000 [==============================] - 2s 113us/step - loss: 0.0060 - acc: 0.9997 - val_loss: 0.6407 - val_acc: 0.8645\n",
      "Epoch 18/20\n",
      "15000/15000 [==============================] - 2s 114us/step - loss: 0.0082 - acc: 0.9985 - val_loss: 0.6753 - val_acc: 0.8649\n",
      "Epoch 19/20\n",
      "15000/15000 [==============================] - 2s 113us/step - loss: 0.0031 - acc: 0.9998 - val_loss: 0.7036 - val_acc: 0.8643\n",
      "Epoch 20/20\n",
      "15000/15000 [==============================] - 2s 113us/step - loss: 0.0061 - acc: 0.9984 - val_loss: 0.7406 - val_acc: 0.8616\n"
     ]
    }
   ],
   "source": [
    "history = model.fit(partial_x_train,\n",
    "                    partial_y_train,\n",
    "                    epochs=20,\n",
    "                    batch_size=512,\n",
    "                    validation_data=(x_val, y_val))"
   ]
  },
  {
   "cell_type": "code",
   "execution_count": 56,
   "metadata": {
    "scrolled": true
   },
   "outputs": [
    {
     "data": {
      "text/plain": [
       "dict_keys(['acc', 'loss', 'val_acc', 'val_loss'])"
      ]
     },
     "execution_count": 56,
     "metadata": {},
     "output_type": "execute_result"
    }
   ],
   "source": [
    "# Examining the model training\n",
    "history_dict = history.history\n",
    "history_dict.keys()"
   ]
  },
  {
   "cell_type": "code",
   "execution_count": 62,
   "metadata": {
    "scrolled": true
   },
   "outputs": [],
   "source": [
    "# Now let's plot the training and validation loss\n",
    "import matplotlib.pyplot as plt\n",
    "\n",
    "acc = history_dict['acc']\n",
    "val_acc = history_dict['val_acc']\n",
    "loss = history_dict['loss']\n",
    "val_loss = history_dict['val_loss']\n",
    "\n",
    "epochs = range(1, len(acc) + 1)"
   ]
  },
  {
   "cell_type": "code",
   "execution_count": 63,
   "metadata": {
    "scrolled": true
   },
   "outputs": [
    {
     "data": {
      "image/png": "[encoded data removed]",
      "text/plain": [
       "<matplotlib.figure.Figure at 0x7f417bab8320>"
      ]
     },
     "metadata": {},
     "output_type": "display_data"
    }
   ],
   "source": [
    "# \"bo\" is for \"blued dot\"\n",
    "plt.plot(epochs, loss, 'bo', label='Training loss')\n",
    "# \"b\" is for \"solid blue line\"\n",
    "plt.plot(epochs, val_loss, 'b', label='Validation liss')\n",
    "plt.title('Training and validation loss')\n",
    "plt.xlabel('Epochs')\n",
    "plt.legend()\n",
    "\n",
    "plt.show()"
   ]
  },
  {
   "cell_type": "code",
   "execution_count": 84,
   "metadata": {
    "scrolled": true
   },
   "outputs": [
    {
     "data": {
      "image/png": "[encoded data removed]",
      "text/plain": [
       "<matplotlib.figure.Figure at 0x7f4178fcb8d0>"
      ]
     },
     "metadata": {},
     "output_type": "display_data"
    }
   ],
   "source": [
    "# And now plot the training and validation accuracy\n",
    "plt.clf()\n",
    "plt.plot(epochs, acc, 'bo', label='Training acc')\n",
    "plt.plot(epochs, val_acc, 'b', label='Validation acc')\n",
    "plt.title('Training and validation accuracy')\n",
    "plt.xlabel('Epochs')\n",
    "plt.ylabel('Accuracy')\n",
    "plt.legend()\n",
    "\n",
    "plt.show()"
   ]
  },
  {
   "cell_type": "code",
   "execution_count": 66,
   "metadata": {
    "scrolled": false
   },
   "outputs": [
    {
     "name": "stdout",
     "output_type": "stream",
     "text": [
      "Epoch 1/4\n",
      "25000/25000 [==============================] - 2s 92us/step - loss: 0.5336 - acc: 0.7662\n",
      "Epoch 2/4\n",
      "25000/25000 [==============================] - 2s 70us/step - loss: 0.3327 - acc: 0.9028\n",
      "Epoch 3/4\n",
      "25000/25000 [==============================] - 2s 71us/step - loss: 0.2279 - acc: 0.9276\n",
      "Epoch 4/4\n",
      "25000/25000 [==============================] - 2s 71us/step - loss: 0.1819 - acc: 0.9391\n",
      "25000/25000 [==============================] - 3s 114us/step\n"
     ]
    }
   ],
   "source": [
    "# Re-train the model from scratch only on 4 epochs to avoid over fitting\n",
    "model = models.Sequential()\n",
    "model.add(layers.Dense(16, activation = 'relu', input_shape = (10000,)))\n",
    "model.add(layers.Dense(16, activation = 'relu'))\n",
    "model.add(layers.Dense(1, activation = 'sigmoid'))\n",
    "\n",
    "model.compile(optimizer = 'rmsprop',\n",
    "             loss = 'binary_crossentropy',\n",
    "             metrics = ['accuracy'])\n",
    "\n",
    "model.fit(x_train, y_train, epochs=4, batch_size=512)"
   ]
  },
  {
   "cell_type": "code",
   "execution_count": 67,
   "metadata": {
    "scrolled": true
   },
   "outputs": [
    {
     "name": "stdout",
     "output_type": "stream",
     "text": [
      "25000/25000 [==============================] - 3s 109us/step\n"
     ]
    }
   ],
   "source": [
    "results = model.evaluate(x_test, y_test)"
   ]
  },
  {
   "cell_type": "code",
   "execution_count": 68,
   "metadata": {
    "scrolled": true
   },
   "outputs": [
    {
     "name": "stdout",
     "output_type": "stream",
     "text": [
      "[0.30895852510452271, 0.88019999999999998]\n"
     ]
    }
   ],
   "source": [
    "print(results)"
   ]
  },
  {
   "cell_type": "code",
   "execution_count": 69,
   "metadata": {
    "scrolled": true
   },
   "outputs": [
    {
     "data": {
      "text/plain": [
       "array([[ 0.00127354],\n",
       "       [ 0.11976437],\n",
       "       [ 0.93381214],\n",
       "       ..., \n",
       "       [ 0.03002505],\n",
       "       [ 0.86452699],\n",
       "       [ 0.49728775]], dtype=float32)"
      ]
     },
     "execution_count": 69,
     "metadata": {},
     "output_type": "execute_result"
    }
   ],
   "source": [
    "# Now use the trained model for predictions\n",
    "model.predict(x_test)"
   ]
  },
  {
   "cell_type": "markdown",
   "metadata": {},
   "source": [
    "### Further experiments"
   ]
  },
  {
   "cell_type": "markdown",
   "metadata": {},
   "source": [
    "**Experiment 1: Use 1 or 3 hidden layers and see how it affects validation and test accuracy**"
   ]
  },
  {
   "cell_type": "code",
   "execution_count": 73,
   "metadata": {
    "scrolled": true
   },
   "outputs": [],
   "source": [
    "# One hidden layer\n",
    "model1 = models.Sequential()\n",
    "model1.add(layers.Dense(16, activation = 'relu', input_shape = (10000,)))\n",
    "model1.add(layers.Dense(1, activation = 'sigmoid'))\n",
    "\n",
    "# Three hidden layers\n",
    "model3 = models.Sequential()\n",
    "model3.add(layers.Dense(16, activation = 'relu', input_shape = (10000,)))\n",
    "model3.add(layers.Dense(16, activation = 'relu'))\n",
    "model3.add(layers.Dense(16, activation = 'relu'))          \n",
    "model3.add(layers.Dense(1, activation = 'sigmoid'))"
   ]
  },
  {
   "cell_type": "code",
   "execution_count": 74,
   "metadata": {
    "scrolled": true
   },
   "outputs": [],
   "source": [
    "model1.compile(optimizer = 'rmsprop',\n",
    "               loss = 'binary_crossentropy',\n",
    "               metrics = ['accuracy'])\n",
    "\n",
    "model3.compile(optimizer = 'rmsprop',\n",
    "               loss = 'binary_crossentropy',\n",
    "               metrics = ['accuracy'])"
   ]
  },
  {
   "cell_type": "code",
   "execution_count": 75,
   "metadata": {
    "scrolled": false
   },
   "outputs": [
    {
     "name": "stdout",
     "output_type": "stream",
     "text": [
      "Train on 15000 samples, validate on 10000 samples\n",
      "Epoch 1/20\n",
      "15000/15000 [==============================] - 2s 137us/step - loss: 0.5044 - acc: 0.8019 - val_loss: 0.3990 - val_acc: 0.8694\n",
      "Epoch 2/20\n",
      "15000/15000 [==============================] - 2s 111us/step - loss: 0.3234 - acc: 0.9022 - val_loss: 0.3281 - val_acc: 0.8833\n",
      "Epoch 3/20\n",
      "15000/15000 [==============================] - 2s 111us/step - loss: 0.2486 - acc: 0.9265 - val_loss: 0.2974 - val_acc: 0.8883\n",
      "Epoch 4/20\n",
      "15000/15000 [==============================] - 2s 111us/step - loss: 0.2025 - acc: 0.9410 - val_loss: 0.2850 - val_acc: 0.8897\n",
      "Epoch 5/20\n",
      "15000/15000 [==============================] - 2s 112us/step - loss: 0.1714 - acc: 0.9499 - val_loss: 0.2834 - val_acc: 0.8880\n",
      "Epoch 6/20\n",
      "15000/15000 [==============================] - 2s 111us/step - loss: 0.1472 - acc: 0.9557 - val_loss: 0.3057 - val_acc: 0.8778\n",
      "Epoch 7/20\n",
      "15000/15000 [==============================] - 2s 112us/step - loss: 0.1284 - acc: 0.9625 - val_loss: 0.2913 - val_acc: 0.8844\n",
      "Epoch 8/20\n",
      "15000/15000 [==============================] - 2s 111us/step - loss: 0.1132 - acc: 0.9670 - val_loss: 0.3055 - val_acc: 0.8798\n",
      "Epoch 9/20\n",
      "15000/15000 [==============================] - 2s 112us/step - loss: 0.0988 - acc: 0.9734 - val_loss: 0.3127 - val_acc: 0.8808\n",
      "Epoch 10/20\n",
      "15000/15000 [==============================] - 2s 112us/step - loss: 0.0877 - acc: 0.9773 - val_loss: 0.3441 - val_acc: 0.8737\n",
      "Epoch 11/20\n",
      "15000/15000 [==============================] - 2s 112us/step - loss: 0.0779 - acc: 0.9803 - val_loss: 0.3364 - val_acc: 0.8762\n",
      "Epoch 12/20\n",
      "15000/15000 [==============================] - 2s 111us/step - loss: 0.0693 - acc: 0.9828 - val_loss: 0.3534 - val_acc: 0.8742\n",
      "Epoch 13/20\n",
      "15000/15000 [==============================] - 2s 111us/step - loss: 0.0607 - acc: 0.9858 - val_loss: 0.3779 - val_acc: 0.8701\n",
      "Epoch 14/20\n",
      "15000/15000 [==============================] - 2s 111us/step - loss: 0.0546 - acc: 0.9882 - val_loss: 0.3850 - val_acc: 0.8715\n",
      "Epoch 15/20\n",
      "15000/15000 [==============================] - 2s 111us/step - loss: 0.0477 - acc: 0.9897 - val_loss: 0.4094 - val_acc: 0.8699\n",
      "Epoch 16/20\n",
      "15000/15000 [==============================] - 2s 111us/step - loss: 0.0422 - acc: 0.9921 - val_loss: 0.4167 - val_acc: 0.8687\n",
      "Epoch 17/20\n",
      "15000/15000 [==============================] - 2s 112us/step - loss: 0.0380 - acc: 0.9926 - val_loss: 0.4395 - val_acc: 0.8671\n",
      "Epoch 18/20\n",
      "15000/15000 [==============================] - 2s 111us/step - loss: 0.0327 - acc: 0.9939 - val_loss: 0.4555 - val_acc: 0.8666\n",
      "Epoch 19/20\n",
      "15000/15000 [==============================] - 2s 111us/step - loss: 0.0291 - acc: 0.9952 - val_loss: 0.4758 - val_acc: 0.8655\n",
      "Epoch 20/20\n",
      "15000/15000 [==============================] - 2s 111us/step - loss: 0.0256 - acc: 0.9959 - val_loss: 0.5013 - val_acc: 0.8632\n",
      "Train on 15000 samples, validate on 10000 samples\n",
      "Epoch 1/20\n",
      "15000/15000 [==============================] - 2s 150us/step - loss: 0.5790 - acc: 0.7445 - val_loss: 0.4617 - val_acc: 0.8374\n",
      "Epoch 2/20\n",
      "15000/15000 [==============================] - 2s 113us/step - loss: 0.3665 - acc: 0.8970 - val_loss: 0.3418 - val_acc: 0.8771\n",
      "Epoch 3/20\n",
      "15000/15000 [==============================] - 2s 113us/step - loss: 0.2439 - acc: 0.9320 - val_loss: 0.3198 - val_acc: 0.8713\n",
      "Epoch 4/20\n",
      "15000/15000 [==============================] - 2s 113us/step - loss: 0.1870 - acc: 0.9406 - val_loss: 0.2860 - val_acc: 0.8886\n",
      "Epoch 5/20\n",
      "15000/15000 [==============================] - 2s 113us/step - loss: 0.1462 - acc: 0.9546 - val_loss: 0.2908 - val_acc: 0.8844\n",
      "Epoch 6/20\n",
      "15000/15000 [==============================] - 2s 113us/step - loss: 0.1144 - acc: 0.9649 - val_loss: 0.3068 - val_acc: 0.8817\n",
      "Epoch 7/20\n",
      "15000/15000 [==============================] - 2s 113us/step - loss: 0.0967 - acc: 0.9713 - val_loss: 0.3282 - val_acc: 0.8782\n",
      "Epoch 8/20\n",
      "15000/15000 [==============================] - 2s 113us/step - loss: 0.0784 - acc: 0.9771 - val_loss: 0.3526 - val_acc: 0.8772\n",
      "Epoch 9/20\n",
      "15000/15000 [==============================] - 2s 113us/step - loss: 0.0631 - acc: 0.9826 - val_loss: 0.3795 - val_acc: 0.8734\n",
      "Epoch 10/20\n",
      "15000/15000 [==============================] - 2s 113us/step - loss: 0.0503 - acc: 0.9871 - val_loss: 0.4135 - val_acc: 0.8712\n",
      "Epoch 11/20\n",
      "15000/15000 [==============================] - 2s 113us/step - loss: 0.0418 - acc: 0.9906 - val_loss: 0.4563 - val_acc: 0.8687\n",
      "Epoch 12/20\n",
      "15000/15000 [==============================] - 2s 113us/step - loss: 0.0322 - acc: 0.9928 - val_loss: 0.4802 - val_acc: 0.8673\n",
      "Epoch 13/20\n",
      "15000/15000 [==============================] - 2s 113us/step - loss: 0.0256 - acc: 0.9947 - val_loss: 0.5137 - val_acc: 0.8676\n",
      "Epoch 14/20\n",
      "15000/15000 [==============================] - 2s 113us/step - loss: 0.0214 - acc: 0.9957 - val_loss: 0.5556 - val_acc: 0.8646\n",
      "Epoch 15/20\n",
      "15000/15000 [==============================] - 2s 113us/step - loss: 0.0135 - acc: 0.9983 - val_loss: 0.5965 - val_acc: 0.8616\n",
      "Epoch 16/20\n",
      "15000/15000 [==============================] - 2s 113us/step - loss: 0.0092 - acc: 0.9990 - val_loss: 0.7161 - val_acc: 0.8536\n",
      "Epoch 17/20\n",
      "15000/15000 [==============================] - 2s 113us/step - loss: 0.0080 - acc: 0.9993 - val_loss: 0.6689 - val_acc: 0.8640\n",
      "Epoch 18/20\n",
      "15000/15000 [==============================] - 2s 113us/step - loss: 0.0135 - acc: 0.9968 - val_loss: 0.6940 - val_acc: 0.8631\n",
      "Epoch 19/20\n",
      "15000/15000 [==============================] - 2s 113us/step - loss: 0.0040 - acc: 0.9996 - val_loss: 0.7294 - val_acc: 0.8620\n",
      "Epoch 20/20\n",
      "15000/15000 [==============================] - 2s 113us/step - loss: 0.0089 - acc: 0.9975 - val_loss: 0.7595 - val_acc: 0.8625\n"
     ]
    }
   ],
   "source": [
    "history1 = model1.fit(partial_x_train,\n",
    "                      partial_y_train,\n",
    "                      epochs=20,\n",
    "                      batch_size=512,\n",
    "                      validation_data=(x_val, y_val))\n",
    "\n",
    "history3 = model3.fit(partial_x_train,\n",
    "                      partial_y_train,\n",
    "                      epochs=20,\n",
    "                      batch_size=512,\n",
    "                      validation_data=(x_val, y_val))"
   ]
  },
  {
   "cell_type": "code",
   "execution_count": 80,
   "metadata": {
    "scrolled": true
   },
   "outputs": [],
   "source": [
    "history1_dict = history1.history\n",
    "history3_dict = history3.history\n",
    "acc1 = history1_dict['acc']\n",
    "val_acc1 = history1_dict['val_acc']\n",
    "acc3 = history3_dict['acc']\n",
    "val_acc3 = history3_dict['val_acc']"
   ]
  },
  {
   "cell_type": "code",
   "execution_count": 85,
   "metadata": {
    "scrolled": true
   },
   "outputs": [
    {
     "data": {
      "image/png": "[encoded data removed]",
      "text/plain": [
       "<matplotlib.figure.Figure at 0x7f4178fcbe10>"
      ]
     },
     "metadata": {},
     "output_type": "display_data"
    }
   ],
   "source": [
    "plt.clf()\n",
    "plt.plot(epochs, acc, 'bo', label='Training acc')\n",
    "plt.plot(epochs, val_acc, 'b', label='Validation acc')\n",
    "plt.plot(epochs, acc1, 'ro', label='Training acc one layer')\n",
    "plt.plot(epochs, val_acc1, 'r', label='Validation acc one layer')\n",
    "plt.plot(epochs, acc3, 'go', label='Training acc three layers')\n",
    "plt.plot(epochs, val_acc3, 'g', label='Validation acc three layers')\n",
    "plt.title('Training and validation accuracy')\n",
    "plt.xlabel('Epochs')\n",
    "plt.ylabel('Accuracy')\n",
    "plt.legend()\n",
    "\n",
    "plt.show()"
   ]
  },
  {
   "cell_type": "markdown",
   "metadata": {},
   "source": [
    "**Experiment 2: Use layers with more or fewer hidden units**"
   ]
  },
  {
   "cell_type": "code",
   "execution_count": 86,
   "metadata": {
    "scrolled": true
   },
   "outputs": [],
   "source": [
    "# Two layers, fewer hidden units\n",
    "modelFew = models.Sequential()\n",
    "modelFew.add(layers.Dense(8, activation = 'relu', input_shape = (10000,)))\n",
    "modelFew.add(layers.Dense(8, activation = 'relu'))\n",
    "modelFew.add(layers.Dense(1, activation = 'sigmoid'))\n",
    "\n",
    "# Two layers, more hidden units\n",
    "modelMany = models.Sequential()\n",
    "modelMany.add(layers.Dense(128, activation = 'relu', input_shape = (10000,)))\n",
    "modelMany.add(layers.Dense(128, activation = 'relu'))         \n",
    "modelMany.add(layers.Dense(1, activation = 'sigmoid'))"
   ]
  },
  {
   "cell_type": "code",
   "execution_count": 87,
   "metadata": {
    "scrolled": true
   },
   "outputs": [],
   "source": [
    "modelFew.compile(optimizer = 'rmsprop',\n",
    "               loss = 'binary_crossentropy',\n",
    "               metrics = ['accuracy'])\n",
    "\n",
    "modelMany.compile(optimizer = 'rmsprop',\n",
    "               loss = 'binary_crossentropy',\n",
    "               metrics = ['accuracy'])"
   ]
  },
  {
   "cell_type": "code",
   "execution_count": 88,
   "metadata": {
    "scrolled": false
   },
   "outputs": [
    {
     "name": "stdout",
     "output_type": "stream",
     "text": [
      "Train on 15000 samples, validate on 10000 samples\n",
      "Epoch 1/20\n",
      "15000/15000 [==============================] - 2s 143us/step - loss: 0.5321 - acc: 0.7831 - val_loss: 0.4167 - val_acc: 0.8705\n",
      "Epoch 2/20\n",
      "15000/15000 [==============================] - 2s 113us/step - loss: 0.3382 - acc: 0.9008 - val_loss: 0.3448 - val_acc: 0.8783\n",
      "Epoch 3/20\n",
      "15000/15000 [==============================] - 2s 113us/step - loss: 0.2516 - acc: 0.9297 - val_loss: 0.3124 - val_acc: 0.8771\n",
      "Epoch 4/20\n",
      "15000/15000 [==============================] - 2s 112us/step - loss: 0.2023 - acc: 0.9408 - val_loss: 0.2937 - val_acc: 0.8828\n",
      "Epoch 5/20\n",
      "15000/15000 [==============================] - 2s 112us/step - loss: 0.1672 - acc: 0.9513 - val_loss: 0.2868 - val_acc: 0.8862\n",
      "Epoch 6/20\n",
      "15000/15000 [==============================] - 2s 112us/step - loss: 0.1405 - acc: 0.9589 - val_loss: 0.2923 - val_acc: 0.8844\n",
      "Epoch 7/20\n",
      "15000/15000 [==============================] - 2s 112us/step - loss: 0.1190 - acc: 0.9679 - val_loss: 0.2982 - val_acc: 0.8827\n",
      "Epoch 8/20\n",
      "15000/15000 [==============================] - 2s 112us/step - loss: 0.1021 - acc: 0.9711 - val_loss: 0.3371 - val_acc: 0.8734\n",
      "Epoch 9/20\n",
      "15000/15000 [==============================] - 2s 113us/step - loss: 0.0876 - acc: 0.9763 - val_loss: 0.3279 - val_acc: 0.8778\n",
      "Epoch 10/20\n",
      "15000/15000 [==============================] - 2s 112us/step - loss: 0.0752 - acc: 0.9805 - val_loss: 0.3468 - val_acc: 0.8758\n",
      "Epoch 11/20\n",
      "15000/15000 [==============================] - 2s 112us/step - loss: 0.0622 - acc: 0.9851 - val_loss: 0.3647 - val_acc: 0.8733\n",
      "Epoch 12/20\n",
      "15000/15000 [==============================] - 2s 112us/step - loss: 0.0542 - acc: 0.9881 - val_loss: 0.4062 - val_acc: 0.8683\n",
      "Epoch 13/20\n",
      "15000/15000 [==============================] - 2s 112us/step - loss: 0.0458 - acc: 0.9909 - val_loss: 0.4106 - val_acc: 0.8707\n",
      "Epoch 14/20\n",
      "15000/15000 [==============================] - 2s 113us/step - loss: 0.0382 - acc: 0.9928 - val_loss: 0.4331 - val_acc: 0.8679\n",
      "Epoch 15/20\n",
      "15000/15000 [==============================] - 2s 112us/step - loss: 0.0330 - acc: 0.9945 - val_loss: 0.4568 - val_acc: 0.8695\n",
      "Epoch 16/20\n",
      "15000/15000 [==============================] - 2s 112us/step - loss: 0.0275 - acc: 0.9953 - val_loss: 0.4836 - val_acc: 0.8665\n",
      "Epoch 17/20\n",
      "15000/15000 [==============================] - 2s 112us/step - loss: 0.0231 - acc: 0.9966 - val_loss: 0.5093 - val_acc: 0.8652\n",
      "Epoch 18/20\n",
      "15000/15000 [==============================] - 2s 112us/step - loss: 0.0182 - acc: 0.9979 - val_loss: 0.5435 - val_acc: 0.8617\n",
      "Epoch 19/20\n",
      "15000/15000 [==============================] - 2s 112us/step - loss: 0.0153 - acc: 0.9984 - val_loss: 0.5979 - val_acc: 0.8580\n",
      "Epoch 20/20\n",
      "15000/15000 [==============================] - 2s 112us/step - loss: 0.0125 - acc: 0.9991 - val_loss: 0.6155 - val_acc: 0.8580\n",
      "Train on 15000 samples, validate on 10000 samples\n",
      "Epoch 1/20\n",
      "15000/15000 [==============================] - 2s 139us/step - loss: 0.4757 - acc: 0.7789 - val_loss: 0.3711 - val_acc: 0.8383\n",
      "Epoch 2/20\n",
      "15000/15000 [==============================] - 2s 117us/step - loss: 0.2538 - acc: 0.9029 - val_loss: 0.3441 - val_acc: 0.8585\n",
      "Epoch 3/20\n",
      "15000/15000 [==============================] - 2s 117us/step - loss: 0.1805 - acc: 0.9335 - val_loss: 0.2876 - val_acc: 0.8852\n",
      "Epoch 4/20\n",
      "15000/15000 [==============================] - 2s 117us/step - loss: 0.1177 - acc: 0.9567 - val_loss: 0.3354 - val_acc: 0.8794\n",
      "Epoch 5/20\n",
      "15000/15000 [==============================] - 2s 117us/step - loss: 0.0857 - acc: 0.9685 - val_loss: 0.3730 - val_acc: 0.8760\n",
      "Epoch 6/20\n",
      "15000/15000 [==============================] - 2s 117us/step - loss: 0.0816 - acc: 0.9787 - val_loss: 0.4088 - val_acc: 0.8755\n",
      "Epoch 7/20\n",
      "15000/15000 [==============================] - 2s 117us/step - loss: 0.0494 - acc: 0.9853 - val_loss: 0.3927 - val_acc: 0.8749\n",
      "Epoch 8/20\n",
      "15000/15000 [==============================] - 2s 117us/step - loss: 0.0116 - acc: 0.9987 - val_loss: 0.5153 - val_acc: 0.8757\n",
      "Epoch 9/20\n",
      "15000/15000 [==============================] - 2s 117us/step - loss: 0.0540 - acc: 0.9853 - val_loss: 0.5047 - val_acc: 0.8741\n",
      "Epoch 10/20\n",
      "15000/15000 [==============================] - 2s 117us/step - loss: 0.0036 - acc: 0.9999 - val_loss: 0.5952 - val_acc: 0.8749\n",
      "Epoch 11/20\n",
      "15000/15000 [==============================] - 2s 117us/step - loss: 0.0017 - acc: 0.9999 - val_loss: 0.6859 - val_acc: 0.8741\n",
      "Epoch 12/20\n",
      "15000/15000 [==============================] - 2s 117us/step - loss: 0.0891 - acc: 0.9873 - val_loss: 0.7065 - val_acc: 0.8718\n",
      "Epoch 13/20\n",
      "15000/15000 [==============================] - 2s 118us/step - loss: 4.5709e-04 - acc: 1.0000 - val_loss: 0.7461 - val_acc: 0.8727\n",
      "Epoch 14/20\n",
      "15000/15000 [==============================] - 2s 117us/step - loss: 2.7589e-04 - acc: 1.0000 - val_loss: 0.7954 - val_acc: 0.8721\n",
      "Epoch 15/20\n",
      "15000/15000 [==============================] - 2s 117us/step - loss: 1.5472e-04 - acc: 1.0000 - val_loss: 0.8548 - val_acc: 0.8716\n",
      "Epoch 16/20\n",
      "15000/15000 [==============================] - 2s 117us/step - loss: 7.0069e-05 - acc: 1.0000 - val_loss: 0.9399 - val_acc: 0.8684\n",
      "Epoch 17/20\n",
      "15000/15000 [==============================] - 2s 117us/step - loss: 0.0874 - acc: 0.9881 - val_loss: 0.9212 - val_acc: 0.8689\n",
      "Epoch 18/20\n",
      "15000/15000 [==============================] - 2s 117us/step - loss: 2.8309e-05 - acc: 1.0000 - val_loss: 0.9365 - val_acc: 0.8702\n",
      "Epoch 19/20\n",
      "15000/15000 [==============================] - 2s 117us/step - loss: 2.1066e-05 - acc: 1.0000 - val_loss: 0.9614 - val_acc: 0.8705\n",
      "Epoch 20/20\n",
      "15000/15000 [==============================] - 2s 117us/step - loss: 1.5609e-05 - acc: 1.0000 - val_loss: 0.9902 - val_acc: 0.8696\n"
     ]
    }
   ],
   "source": [
    "historyFew = modelFew.fit(partial_x_train,\n",
    "                      partial_y_train,\n",
    "                      epochs=20,\n",
    "                      batch_size=512,\n",
    "                      validation_data=(x_val, y_val))\n",
    "\n",
    "historyMany = modelMany.fit(partial_x_train,\n",
    "                      partial_y_train,\n",
    "                      epochs=20,\n",
    "                      batch_size=512,\n",
    "                      validation_data=(x_val, y_val))"
   ]
  },
  {
   "cell_type": "code",
   "execution_count": 93,
   "metadata": {
    "scrolled": true
   },
   "outputs": [],
   "source": [
    "historyFew_dict = historyFew.history\n",
    "historyMany_dict = historyMany.history\n",
    "accFew = historyFew_dict['acc']\n",
    "val_accFew = historyFew_dict['val_acc']\n",
    "accMany = historyMany_dict['acc']\n",
    "val_accMany = historyMany_dict['val_acc']"
   ]
  },
  {
   "cell_type": "code",
   "execution_count": 94,
   "metadata": {
    "scrolled": true
   },
   "outputs": [
    {
     "data": {
      "image/png": "[encoded data removed]",
      "text/plain": [
       "<matplotlib.figure.Figure at 0x7f4178c9b160>"
      ]
     },
     "metadata": {},
     "output_type": "display_data"
    }
   ],
   "source": [
    "plt.clf()\n",
    "plt.plot(epochs, acc, 'bo', label='Training acc')\n",
    "plt.plot(epochs, val_acc, 'b', label='Validation acc')\n",
    "plt.plot(epochs, accFew, 'ro', label='Training acc fewer units')\n",
    "plt.plot(epochs, val_accFew, 'r', label='Validation acc fewer units')\n",
    "plt.plot(epochs, accMany, 'go', label='Training acc more units')\n",
    "plt.plot(epochs, val_accMany, 'g', label='Validation acc more units')\n",
    "plt.title('Training and validation accuracy')\n",
    "plt.xlabel('Epochs')\n",
    "plt.ylabel('Accuracy')\n",
    "plt.legend()\n",
    "\n",
    "plt.show()"
   ]
  },
  {
   "cell_type": "markdown",
   "metadata": {},
   "source": [
    "**Experiment 3: Use the `mse` loss function instead of `binary_crossentropy`**"
   ]
  },
  {
   "cell_type": "code",
   "execution_count": 97,
   "metadata": {
    "scrolled": true
   },
   "outputs": [
    {
     "name": "stdout",
     "output_type": "stream",
     "text": [
      "Train on 15000 samples, validate on 10000 samples\n",
      "Epoch 1/20\n",
      "15000/15000 [==============================] - 2s 136us/step - loss: 0.1812 - acc: 0.7891 - val_loss: 0.1352 - val_acc: 0.8648\n",
      "Epoch 2/20\n",
      "15000/15000 [==============================] - 2s 112us/step - loss: 0.1054 - acc: 0.9009 - val_loss: 0.1045 - val_acc: 0.8810\n",
      "Epoch 3/20\n",
      "15000/15000 [==============================] - 2s 111us/step - loss: 0.0767 - acc: 0.9251 - val_loss: 0.1007 - val_acc: 0.8699\n",
      "Epoch 4/20\n",
      "15000/15000 [==============================] - 2s 112us/step - loss: 0.0603 - acc: 0.9400 - val_loss: 0.0873 - val_acc: 0.8856\n",
      "Epoch 5/20\n",
      "15000/15000 [==============================] - 2s 111us/step - loss: 0.0490 - acc: 0.9519 - val_loss: 0.0869 - val_acc: 0.8833\n",
      "Epoch 6/20\n",
      "15000/15000 [==============================] - 2s 111us/step - loss: 0.0409 - acc: 0.9592 - val_loss: 0.0857 - val_acc: 0.8841\n",
      "Epoch 7/20\n",
      "15000/15000 [==============================] - 2s 111us/step - loss: 0.0342 - acc: 0.9681 - val_loss: 0.0859 - val_acc: 0.8828\n",
      "Epoch 8/20\n",
      "15000/15000 [==============================] - 2s 111us/step - loss: 0.0289 - acc: 0.9731 - val_loss: 0.0911 - val_acc: 0.8773\n",
      "Epoch 9/20\n",
      "15000/15000 [==============================] - 2s 111us/step - loss: 0.0255 - acc: 0.9762 - val_loss: 0.0898 - val_acc: 0.8784\n",
      "Epoch 10/20\n",
      "15000/15000 [==============================] - 2s 112us/step - loss: 0.0215 - acc: 0.9814 - val_loss: 0.0940 - val_acc: 0.8750\n",
      "Epoch 11/20\n",
      "15000/15000 [==============================] - 2s 111us/step - loss: 0.0186 - acc: 0.9835 - val_loss: 0.0949 - val_acc: 0.8735\n",
      "Epoch 12/20\n",
      "15000/15000 [==============================] - 2s 112us/step - loss: 0.0156 - acc: 0.9869 - val_loss: 0.0957 - val_acc: 0.8730\n",
      "Epoch 13/20\n",
      "15000/15000 [==============================] - 2s 112us/step - loss: 0.0136 - acc: 0.9892 - val_loss: 0.0982 - val_acc: 0.8714\n",
      "Epoch 14/20\n",
      "15000/15000 [==============================] - 2s 111us/step - loss: 0.0115 - acc: 0.9915 - val_loss: 0.1034 - val_acc: 0.8650\n",
      "Epoch 15/20\n",
      "15000/15000 [==============================] - 2s 112us/step - loss: 0.0101 - acc: 0.9930 - val_loss: 0.1027 - val_acc: 0.8686\n",
      "Epoch 16/20\n",
      "15000/15000 [==============================] - 2s 112us/step - loss: 0.0088 - acc: 0.9940 - val_loss: 0.1044 - val_acc: 0.8675\n",
      "Epoch 17/20\n",
      "15000/15000 [==============================] - 2s 111us/step - loss: 0.0071 - acc: 0.9951 - val_loss: 0.1085 - val_acc: 0.8631\n",
      "Epoch 18/20\n",
      "15000/15000 [==============================] - 2s 112us/step - loss: 0.0065 - acc: 0.9957 - val_loss: 0.1088 - val_acc: 0.8638\n",
      "Epoch 19/20\n",
      "15000/15000 [==============================] - 2s 113us/step - loss: 0.0055 - acc: 0.9965 - val_loss: 0.1101 - val_acc: 0.8620\n",
      "Epoch 20/20\n",
      "15000/15000 [==============================] - 2s 113us/step - loss: 0.0047 - acc: 0.9967 - val_loss: 0.1140 - val_acc: 0.8596\n"
     ]
    }
   ],
   "source": [
    "# Two layers, using MSE as loss\n",
    "modelMSE = models.Sequential()\n",
    "modelMSE.add(layers.Dense(8, activation = 'relu', input_shape = (10000,)))\n",
    "modelMSE.add(layers.Dense(8, activation = 'relu'))\n",
    "modelMSE.add(layers.Dense(1, activation = 'sigmoid'))\n",
    "\n",
    "modelMSE.compile(optimizer = 'rmsprop',\n",
    "               loss = 'mse',\n",
    "               metrics = ['accuracy'])\n",
    "\n",
    "historyMSE = modelMSE.fit(partial_x_train,\n",
    "                      partial_y_train,\n",
    "                      epochs=20,\n",
    "                      batch_size=512,\n",
    "                      validation_data=(x_val, y_val))\n",
    "\n",
    "historyMSE_dict = historyMSE.history\n",
    "\n",
    "accMSE = historyMSE_dict['acc']\n",
    "val_accMSE = historyMSE_dict['val_acc']"
   ]
  },
  {
   "cell_type": "code",
   "execution_count": 98,
   "metadata": {},
   "outputs": [
    {
     "data": {
      "image/png": "[encoded data removed]",
      "text/plain": [
       "<matplotlib.figure.Figure at 0x7f4080c0d208>"
      ]
     },
     "metadata": {},
     "output_type": "display_data"
    }
   ],
   "source": [
    "plt.clf()\n",
    "plt.plot(epochs, acc, 'bo', label='Training acc')\n",
    "plt.plot(epochs, val_acc, 'b', label='Validation acc')\n",
    "plt.plot(epochs, accMSE, 'ro', label='Training acc using MSE')\n",
    "plt.plot(epochs, val_accMSE, 'r', label='Validation acc using MSE')\n",
    "plt.title('Training and validation accuracy')\n",
    "plt.xlabel('Epochs')\n",
    "plt.ylabel('Accuracy')\n",
    "plt.legend()\n",
    "\n",
    "plt.show()"
   ]
  },
  {
   "cell_type": "markdown",
   "metadata": {},
   "source": [
    "**Experiment 4: use the `tanh` activation function instead of `relu`**"
   ]
  },
  {
   "cell_type": "code",
   "execution_count": 99,
   "metadata": {
    "scrolled": true
   },
   "outputs": [
    {
     "name": "stdout",
     "output_type": "stream",
     "text": [
      "Train on 15000 samples, validate on 10000 samples\n",
      "Epoch 1/20\n",
      "15000/15000 [==============================] - 2s 142us/step - loss: 0.5022 - acc: 0.7997 - val_loss: 0.3987 - val_acc: 0.8676\n",
      "Epoch 2/20\n",
      "15000/15000 [==============================] - 2s 113us/step - loss: 0.3212 - acc: 0.9059 - val_loss: 0.3262 - val_acc: 0.8824\n",
      "Epoch 3/20\n",
      "15000/15000 [==============================] - 2s 113us/step - loss: 0.2426 - acc: 0.9313 - val_loss: 0.3262 - val_acc: 0.8641\n",
      "Epoch 4/20\n",
      "15000/15000 [==============================] - 2s 113us/step - loss: 0.1909 - acc: 0.9476 - val_loss: 0.2817 - val_acc: 0.8884\n",
      "Epoch 5/20\n",
      "15000/15000 [==============================] - 2s 113us/step - loss: 0.1534 - acc: 0.9599 - val_loss: 0.2857 - val_acc: 0.8818\n",
      "Epoch 6/20\n",
      "15000/15000 [==============================] - 2s 113us/step - loss: 0.1262 - acc: 0.9671 - val_loss: 0.2915 - val_acc: 0.8854\n",
      "Epoch 7/20\n",
      "15000/15000 [==============================] - 2s 113us/step - loss: 0.1037 - acc: 0.9736 - val_loss: 0.3089 - val_acc: 0.8811\n",
      "Epoch 8/20\n",
      "15000/15000 [==============================] - 2s 112us/step - loss: 0.0823 - acc: 0.9810 - val_loss: 0.3292 - val_acc: 0.8769\n",
      "Epoch 9/20\n",
      "15000/15000 [==============================] - 2s 113us/step - loss: 0.0683 - acc: 0.9839 - val_loss: 0.3525 - val_acc: 0.8724\n",
      "Epoch 10/20\n",
      "15000/15000 [==============================] - 2s 113us/step - loss: 0.0563 - acc: 0.9871 - val_loss: 0.3934 - val_acc: 0.8686\n",
      "Epoch 11/20\n",
      "15000/15000 [==============================] - 2s 113us/step - loss: 0.0427 - acc: 0.9921 - val_loss: 0.4075 - val_acc: 0.8684\n",
      "Epoch 12/20\n",
      "15000/15000 [==============================] - 2s 112us/step - loss: 0.0332 - acc: 0.9945 - val_loss: 0.4358 - val_acc: 0.8653\n",
      "Epoch 13/20\n",
      "15000/15000 [==============================] - 2s 112us/step - loss: 0.0288 - acc: 0.9951 - val_loss: 0.4671 - val_acc: 0.8647\n",
      "Epoch 14/20\n",
      "15000/15000 [==============================] - 2s 112us/step - loss: 0.0217 - acc: 0.9970 - val_loss: 0.4976 - val_acc: 0.8633\n",
      "Epoch 15/20\n",
      "15000/15000 [==============================] - 2s 112us/step - loss: 0.0173 - acc: 0.9973 - val_loss: 0.5335 - val_acc: 0.8610\n",
      "Epoch 16/20\n",
      "15000/15000 [==============================] - 2s 112us/step - loss: 0.0153 - acc: 0.9974 - val_loss: 0.5624 - val_acc: 0.8621\n",
      "Epoch 17/20\n",
      "15000/15000 [==============================] - 2s 113us/step - loss: 0.0095 - acc: 0.9989 - val_loss: 0.5906 - val_acc: 0.8606\n",
      "Epoch 18/20\n",
      "15000/15000 [==============================] - 2s 113us/step - loss: 0.0108 - acc: 0.9980 - val_loss: 0.6245 - val_acc: 0.8609\n",
      "Epoch 19/20\n",
      "15000/15000 [==============================] - 2s 112us/step - loss: 0.0065 - acc: 0.9994 - val_loss: 0.6522 - val_acc: 0.8606\n",
      "Epoch 20/20\n",
      "15000/15000 [==============================] - 2s 112us/step - loss: 0.0060 - acc: 0.9993 - val_loss: 0.7236 - val_acc: 0.8511\n"
     ]
    }
   ],
   "source": [
    "# Two layers, using tanh instead of relu\n",
    "modelT = models.Sequential()\n",
    "modelT.add(layers.Dense(8, activation = 'tanh', input_shape = (10000,)))\n",
    "modelT.add(layers.Dense(8, activation = 'tanh'))\n",
    "modelT.add(layers.Dense(1, activation = 'sigmoid'))\n",
    "\n",
    "modelT.compile(optimizer = 'rmsprop',\n",
    "               loss = 'binary_crossentropy',\n",
    "               metrics = ['accuracy'])\n",
    "\n",
    "historyT = modelT.fit(partial_x_train,\n",
    "                      partial_y_train,\n",
    "                      epochs=20,\n",
    "                      batch_size=512,\n",
    "                      validation_data=(x_val, y_val))\n",
    "\n",
    "historyT_dict = historyT.history\n",
    "\n",
    "accT = historyT_dict['acc']\n",
    "val_accT = historyT_dict['val_acc']"
   ]
  },
  {
   "cell_type": "code",
   "execution_count": 100,
   "metadata": {},
   "outputs": [
    {
     "data": {
      "image/png": "[encoded data removed]",
      "text/plain": [
       "<matplotlib.figure.Figure at 0x7f4080cc8d68>"
      ]
     },
     "metadata": {},
     "output_type": "display_data"
    }
   ],
   "source": [
    "plt.clf()\n",
    "plt.plot(epochs, acc, 'bo', label='Training acc')\n",
    "plt.plot(epochs, val_acc, 'b', label='Validation acc')\n",
    "plt.plot(epochs, accT, 'ro', label='Training acc using tanh')\n",
    "plt.plot(epochs, val_accT, 'r', label='Validation acc using tanh')\n",
    "plt.title('Training and validation accuracy')\n",
    "plt.xlabel('Epochs')\n",
    "plt.ylabel('Accuracy')\n",
    "plt.legend()\n",
    "\n",
    "plt.show()"
   ]
  }
 ],
 "metadata": {
  "kernelspec": {
   "display_name": "Python 3",
   "language": "python",
   "name": "python3"
  },
  "language_info": {
   "codemirror_mode": {
    "name": "ipython",
    "version": 3
   },
   "file_extension": ".py",
   "mimetype": "text/x-python",
   "name": "python",
   "nbconvert_exporter": "python",
   "pygments_lexer": "ipython3",
   "version": "3.4.3"
  }
 },
 "nbformat": 4,
 "nbformat_minor": 2
}
